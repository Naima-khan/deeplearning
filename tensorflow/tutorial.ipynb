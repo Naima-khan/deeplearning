{
 "cells": [
  {
   "cell_type": "markdown",
   "metadata": {},
   "source": [
    "# Tensorflow Tutorial"
   ]
  },
  {
   "cell_type": "markdown",
   "metadata": {},
   "source": [
    "## Basics"
   ]
  },
  {
   "cell_type": "code",
   "execution_count": 2,
   "metadata": {},
   "outputs": [
    {
     "name": "stdout",
     "output_type": "stream",
     "text": [
      "1.1.0\n",
      "Tensor(\"Const:0\", shape=(), dtype=float32) Tensor(\"Const_1:0\", shape=(), dtype=float32)\n",
      "[3.0, 4.0]\n",
      "node 3 Tensor(\"Add:0\", shape=(), dtype=float32)\n",
      "ses.run(node3)  7.0\n"
     ]
    }
   ],
   "source": [
    "import tensorflow as tf\n",
    "\n",
    "print(tf.__version__)\n",
    "\n",
    "#simple nodes constants\n",
    "node1 = tf.constant(3.0, tf.float32)\n",
    "node2 = tf.constant(4.0) # also tf.float32 implicitly\n",
    "print(node1, node2)\n",
    "\n",
    "sess = tf.Session()\n",
    "print(sess.run([node1, node2]))\n",
    "\n",
    "node3 = tf.add(node1, node2)\n",
    "print (\"node 3\", node3)\n",
    "print (\"ses.run(node3) \", sess.run(node3))\n",
    "\n"
   ]
  },
  {
   "cell_type": "markdown",
   "metadata": {},
   "source": [
    "### Placeholders"
   ]
  },
  {
   "cell_type": "code",
   "execution_count": 10,
   "metadata": {},
   "outputs": [
    {
     "name": "stdout",
     "output_type": "stream",
     "text": [
      "7.5\n",
      "[ 3.  6.]\n",
      "15.0\n"
     ]
    }
   ],
   "source": [
    "#placeholders\n",
    "a = tf.placeholder(tf.float32)\n",
    "b = tf.placeholder(tf.float32)\n",
    "adder_node = a + b \n",
    "\n",
    "print(sess.run(adder_node, {a:3, b:4.5}))\n",
    "print(sess.run(adder_node, {a:[1,2], b:[2,4]}))\n",
    "\n",
    "add_and_triple = adder_node  * 3\n",
    "print (sess.run(add_and_triple, {a:3, b:2}))\n"
   ]
  },
  {
   "cell_type": "markdown",
   "metadata": {},
   "source": [
    "### Variables"
   ]
  },
  {
   "cell_type": "code",
   "execution_count": 11,
   "metadata": {},
   "outputs": [
    {
     "name": "stdout",
     "output_type": "stream",
     "text": [
      "[ 0.          0.30000001  0.60000002  0.90000004]\n"
     ]
    }
   ],
   "source": [
    "#Variables\n",
    "\n",
    "W = tf.Variable([0.3], tf.float32)\n",
    "b = tf.Variable([-0.3], tf.float32)\n",
    "x = tf.placeholder(tf.float32)\n",
    "linear_model = W * x + b\n",
    "\n",
    "init = tf.global_variables_initializer()\n",
    "sess.run(init)  # to intitalize the variables\n",
    "print(sess.run(linear_model, {x:[1,2,3,4]}))\n",
    "\n"
   ]
  },
  {
   "cell_type": "markdown",
   "metadata": {},
   "source": [
    "### Loss Function With Manual Assing of W and b"
   ]
  },
  {
   "cell_type": "code",
   "execution_count": 12,
   "metadata": {},
   "outputs": [
    {
     "name": "stdout",
     "output_type": "stream",
     "text": [
      "23.66\n"
     ]
    },
    {
     "data": {
      "text/plain": [
       "[array([-1.], dtype=float32), array([ 1.], dtype=float32)]"
      ]
     },
     "execution_count": 12,
     "metadata": {},
     "output_type": "execute_result"
    }
   ],
   "source": [
    "#loss functin mean square error\n",
    "y = tf.placeholder(tf.float32)\n",
    "squared_deltas = tf.square(linear_model - y)\n",
    "loss = tf.reduce_sum(squared_deltas)\n",
    "print(sess.run(loss, {x:[1,2,3,4], y:[0,-1,-2,-3]}))\n",
    "\n",
    "# manuall assign W and b i.e overwrite thier intial values\n",
    "fixW = tf.assign(W, [-1.])\n",
    "fixb = tf.assign(b, [1.])\n",
    "\n",
    "# training data\n",
    "x_train = [1,2,3,4]\n",
    "y_train = [0,-1,-2,-3]\n",
    "\n",
    "sess.run([fixW, fixb])"
   ]
  },
  {
   "cell_type": "markdown",
   "metadata": {},
   "source": [
    "### Gradient Decent To Learn W and b"
   ]
  },
  {
   "cell_type": "code",
   "execution_count": 13,
   "metadata": {},
   "outputs": [
    {
     "name": "stdout",
     "output_type": "stream",
     "text": [
      "0.0\n",
      "W: [-0.9999969] b: [ 0.99999082] loss: 5.69997e-11\n"
     ]
    }
   ],
   "source": [
    "\n",
    "print(sess.run(loss, {x:[1,2,3,4], y:[0,-1,-2,-3]}))\n",
    "\n",
    "#instead use gradient decent\n",
    "optimizer = tf.train.GradientDescentOptimizer(0.01)\n",
    "train = optimizer.minimize(loss)\n",
    "\n",
    "sess.run(init) # reset values to incorrect defaults.\n",
    "for i in range(1000):\n",
    "  sess.run(train, {x:x_train, y:y_train})\n",
    "\n",
    "curr_W, curr_b, curr_loss  = sess.run([W, b, loss], {x:x_train, y:y_train})\n",
    "print(\"W: %s b: %s loss: %s\"%(curr_W, curr_b, curr_loss))"
   ]
  },
  {
   "cell_type": "markdown",
   "metadata": {},
   "source": [
    "### Getting value of tensor"
   ]
  },
  {
   "cell_type": "code",
   "execution_count": 7,
   "metadata": {},
   "outputs": [
    {
     "name": "stdout",
     "output_type": "stream",
     "text": [
      "[[-1.24333394 -0.1900686  -0.1644651  ..., -1.33590472  0.42622656\n",
      "  -0.52313727]\n",
      " [-1.37378037  0.35021719 -0.16187337 ...,  1.17692494 -1.23567784\n",
      "   0.03943379]\n",
      " [ 0.0998599   1.51386094  0.26472214 ..., -0.49311253  0.36364356\n",
      "  -1.01890135]\n",
      " ..., \n",
      " [ 0.41101906  1.30396247  0.70703191 ...,  0.61746824  0.80136269\n",
      "   0.71650136]\n",
      " [-0.46992993 -0.46608508  0.06637532 ..., -0.76059228  1.47038555\n",
      "   0.13357587]\n",
      " [ 1.48554099  0.37901375 -0.66855121 ...,  0.58413416  0.45283294\n",
      "  -0.37232795]]\n"
     ]
    }
   ],
   "source": [
    "W = tf.Variable(tf.truncated_normal([700, 10]))\n",
    "with tf.Session() as sess:\n",
    "    sess.run(W.initializer)\n",
    "    print (W.eval())"
   ]
  },
  {
   "cell_type": "markdown",
   "metadata": {},
   "source": [
    "### Assign Op"
   ]
  },
  {
   "cell_type": "code",
   "execution_count": 11,
   "metadata": {},
   "outputs": [
    {
     "name": "stdout",
     "output_type": "stream",
     "text": [
      "100\n"
     ]
    }
   ],
   "source": [
    "W = tf.Variable(10)\n",
    "assign_op = W.assign(100)\n",
    "with tf.Session() as sess:\n",
    "    sess.run(W.initializer)\n",
    "    sess.run(assign_op)\n",
    "    print (W.eval())"
   ]
  },
  {
   "cell_type": "markdown",
   "metadata": {},
   "source": [
    "### Multiple Sessions "
   ]
  },
  {
   "cell_type": "code",
   "execution_count": 15,
   "metadata": {},
   "outputs": [
    {
     "name": "stdout",
     "output_type": "stream",
     "text": [
      "20\n",
      "8\n",
      "120\n",
      "-42\n"
     ]
    }
   ],
   "source": [
    "# Each session contains its own instance\n",
    "W = tf.Variable(10)\n",
    "sess1 = tf.Session()\n",
    "sess2 = tf.Session()\n",
    "sess1.run(W.initializer)\n",
    "sess2.run(W.initializer)\n",
    "print (sess1.run(W.assign_add(10))) # >> 20\n",
    "print (sess2.run(W.assign_sub(2))) # >> 8\n",
    "print (sess1.run(W.assign_add(100))) # >> 120\n",
    "print (sess2.run(W.assign_sub(50))) # >> -42\n",
    "sess1.close()\n",
    "sess2.close()"
   ]
  },
  {
   "cell_type": "markdown",
   "metadata": {},
   "source": [
    "### Interactive Session"
   ]
  },
  {
   "cell_type": "code",
   "execution_count": 18,
   "metadata": {},
   "outputs": [
    {
     "name": "stdout",
     "output_type": "stream",
     "text": [
      "30.0\n"
     ]
    }
   ],
   "source": [
    "#the default session ,no need to specify the session object, good for ipython\n",
    "sess = tf.InteractiveSession()\n",
    "a = tf.constant(5.0)\n",
    "b = tf.constant(6.0)\n",
    "c = a * b\n",
    "# We can just use 'c.eval()' without passing 'sess'\n",
    "print(c.eval())\n",
    "sess.close()"
   ]
  },
  {
   "cell_type": "markdown",
   "metadata": {},
   "source": [
    "### Placeholders "
   ]
  },
  {
   "cell_type": "code",
   "execution_count": 23,
   "metadata": {},
   "outputs": [
    {
     "name": "stdout",
     "output_type": "stream",
     "text": [
      "[ 6.  7.  8.]\n"
     ]
    }
   ],
   "source": [
    "# create a placeholder of type float 32-bit, shape is a vector of 3 elements\n",
    "a = tf.placeholder(tf.float32, shape=[3])\n",
    "# create a constant of type float 32-bit, shape is a vector of 3 elements\n",
    "b = tf.constant([5, 5, 5], tf.float32)\n",
    "# use the placeholder as you would a constant or a variable\n",
    "c = a + b # Short for tf.add(a, b)\n",
    "with tf.Session() as sess:\n",
    "    print(sess.run(c, {a: [1, 2, 3]}))\n",
    "    writer = tf.summary.FileWriter('./my_graph', sess.graph)"
   ]
  },
  {
   "cell_type": "code",
   "execution_count": 29,
   "metadata": {},
   "outputs": [
    {
     "data": {
      "text/plain": [
       "45"
      ]
     },
     "execution_count": 29,
     "metadata": {},
     "output_type": "execute_result"
    }
   ],
   "source": [
    "# other variables are also feedable besides placeholder\n",
    "# create Operations, Tensors, etc (using the default graph)\n",
    "a = tf.add(2, 5)\n",
    "b = tf.multiply(a, 3)\n",
    "# start up a `Session` using the default graph\n",
    "sess = tf.Session()\n",
    "# define a dictionary that says to replace the value of `a` with 15\n",
    "replace_dict = {a: 15}\n",
    "# Run the session, passing in `replace_dict` as the value to `feed_dict`\n",
    "\n",
    "sess.run(b, feed_dict=replace_dict) # returns 45"
   ]
  },
  {
   "cell_type": "markdown",
   "metadata": {},
   "source": [
    "### Lazy Loading "
   ]
  },
  {
   "cell_type": "code",
   "execution_count": 31,
   "metadata": {},
   "outputs": [
    {
     "name": "stdout",
     "output_type": "stream",
     "text": [
      "30\n",
      "30\n",
      "30\n",
      "30\n",
      "30\n",
      "30\n",
      "30\n",
      "30\n",
      "30\n",
      "30\n"
     ]
    }
   ],
   "source": [
    "x = tf.Variable(10, name='x')\n",
    "y = tf.Variable(20, name='y')\n",
    "with tf.Session() as sess:\n",
    "    sess.run(tf.global_variables_initializer())\n",
    "    for _ in range(10):\n",
    "        print (sess.run(tf.add(x, y)) )  #calling add operation at run time instead of predefined graph"
   ]
  },
  {
   "cell_type": "markdown",
   "metadata": {},
   "source": [
    "## Using tf.contrib.learn"
   ]
  },
  {
   "cell_type": "code",
   "execution_count": 6,
   "metadata": {},
   "outputs": [
    {
     "name": "stdout",
     "output_type": "stream",
     "text": [
      "INFO:tensorflow:Using default config.\n",
      "INFO:tensorflow:Using config: {'_task_type': None, '_task_id': 0, '_cluster_spec': <tensorflow.python.training.server_lib.ClusterSpec object at 0x11ea65a58>, '_master': '', '_num_ps_replicas': 0, '_num_worker_replicas': 0, '_environment': 'local', '_is_chief': True, '_evaluation_master': '', '_tf_config': gpu_options {\n",
      "  per_process_gpu_memory_fraction: 1\n",
      "}\n",
      ", '_tf_random_seed': None, '_save_summary_steps': 100, '_save_checkpoints_secs': 600, '_save_checkpoints_steps': None, '_keep_checkpoint_max': 5, '_keep_checkpoint_every_n_hours': 10000, '_model_dir': None}\n",
      "WARNING:tensorflow:Using temporary folder as model directory: /var/folders/p4/njr18cwn09qbzcq3hykrw09rrkp705/T/tmpq_qqywoh\n",
      "WARNING:tensorflow:Rank of input Tensor (1) should be the same as output_rank (2) for column. Will attempt to expand dims. It is highly recommended that you resize your input, as this behavior may change.\n",
      "WARNING:tensorflow:From /Users/nahmad/anaconda2/envs/py36/lib/python3.6/site-packages/tensorflow/contrib/learn/python/learn/estimators/head.py:615: scalar_summary (from tensorflow.python.ops.logging_ops) is deprecated and will be removed after 2016-11-30.\n",
      "Instructions for updating:\n",
      "Please switch to tf.summary.scalar. Note that tf.summary.scalar uses the node name instead of the tag. This means that TensorFlow will automatically de-duplicate summary names based on the scope they are created in. Also, passing a tensor or list of tags to a scalar summary op is no longer supported.\n",
      "INFO:tensorflow:Create CheckpointSaverHook.\n",
      "INFO:tensorflow:Saving checkpoints for 1 into /var/folders/p4/njr18cwn09qbzcq3hykrw09rrkp705/T/tmpq_qqywoh/model.ckpt.\n",
      "INFO:tensorflow:loss = 4.5, step = 1\n",
      "INFO:tensorflow:global_step/sec: 1705.76\n",
      "INFO:tensorflow:loss = 0.114757, step = 101 (0.062 sec)\n",
      "INFO:tensorflow:global_step/sec: 1556.61\n",
      "INFO:tensorflow:loss = 0.0099454, step = 201 (0.062 sec)\n",
      "INFO:tensorflow:global_step/sec: 1685.04\n",
      "INFO:tensorflow:loss = 0.00431101, step = 301 (0.059 sec)\n",
      "INFO:tensorflow:global_step/sec: 1687.07\n",
      "INFO:tensorflow:loss = 0.00136006, step = 401 (0.059 sec)\n",
      "INFO:tensorflow:global_step/sec: 1649.29\n",
      "INFO:tensorflow:loss = 0.000658816, step = 501 (0.061 sec)\n",
      "INFO:tensorflow:global_step/sec: 1704.59\n",
      "INFO:tensorflow:loss = 0.000105492, step = 601 (0.059 sec)\n",
      "INFO:tensorflow:global_step/sec: 1686.23\n",
      "INFO:tensorflow:loss = 3.86533e-05, step = 701 (0.059 sec)\n",
      "INFO:tensorflow:global_step/sec: 1732.35\n",
      "INFO:tensorflow:loss = 1.063e-07, step = 801 (0.058 sec)\n",
      "INFO:tensorflow:global_step/sec: 1809.39\n",
      "INFO:tensorflow:loss = 2.43619e-06, step = 901 (0.055 sec)\n",
      "INFO:tensorflow:Saving checkpoints for 1000 into /var/folders/p4/njr18cwn09qbzcq3hykrw09rrkp705/T/tmpq_qqywoh/model.ckpt.\n",
      "INFO:tensorflow:Loss for final step: 2.26334e-07.\n",
      "WARNING:tensorflow:Rank of input Tensor (1) should be the same as output_rank (2) for column. Will attempt to expand dims. It is highly recommended that you resize your input, as this behavior may change.\n",
      "WARNING:tensorflow:From /Users/nahmad/anaconda2/envs/py36/lib/python3.6/site-packages/tensorflow/contrib/learn/python/learn/estimators/head.py:615: scalar_summary (from tensorflow.python.ops.logging_ops) is deprecated and will be removed after 2016-11-30.\n",
      "Instructions for updating:\n",
      "Please switch to tf.summary.scalar. Note that tf.summary.scalar uses the node name instead of the tag. This means that TensorFlow will automatically de-duplicate summary names based on the scope they are created in. Also, passing a tensor or list of tags to a scalar summary op is no longer supported.\n",
      "INFO:tensorflow:Starting evaluation at 2017-07-13-15:03:49\n",
      "INFO:tensorflow:Restoring parameters from /var/folders/p4/njr18cwn09qbzcq3hykrw09rrkp705/T/tmpq_qqywoh/model.ckpt-1000\n",
      "INFO:tensorflow:Finished evaluation at 2017-07-13-15:03:49\n",
      "INFO:tensorflow:Saving dict for global step 1000: global_step = 1000, loss = 4.33522e-07\n",
      "WARNING:tensorflow:Skipping summary for global_step, must be a float or np.float32.\n",
      "{'loss': 4.335223e-07, 'global_step': 1000}\n"
     ]
    }
   ],
   "source": [
    "import tensorflow as tf\n",
    "# NumPy is often used to load, manipulate and preprocess data.\n",
    "import numpy as np\n",
    "\n",
    "# Declare list of features. We only have one real-valued feature. There are many\n",
    "# other types of columns that are more complicated and useful.\n",
    "features = [tf.contrib.layers.real_valued_column(\"x\", dimension=1)]\n",
    "\n",
    "# An estimator is the front end to invoke training (fitting) and evaluation\n",
    "# (inference). There are many predefined types like linear regression,\n",
    "# logistic regression, linear classification, logistic classification, and\n",
    "# many neural network classifiers and regressors. The following code\n",
    "# provides an estimator that does linear regression.\n",
    "estimator = tf.contrib.learn.LinearRegressor(feature_columns=features)\n",
    "\n",
    "# TensorFlow provides many helper methods to read and set up data sets.\n",
    "# Here we use `numpy_input_fn`. We have to tell the function how many batches\n",
    "# of data (num_epochs) we want and how big each batch should be.\n",
    "x = np.array([1., 2., 3., 4.])\n",
    "y = np.array([0., -1., -2., -3.])\n",
    "input_fn = tf.contrib.learn.io.numpy_input_fn({\"x\":x}, y, batch_size=4,\n",
    "                                              num_epochs=1000)\n",
    "\n",
    "# We can invoke 1000 training steps by invoking the `fit` method and passing the\n",
    "# training data set.\n",
    "estimator.fit(input_fn=input_fn, steps=1000)\n",
    "\n",
    "# Here we evaluate how well our model did. In a real example, we would want\n",
    "# to use a separate validation and testing data set to avoid overfitting.\n",
    "print(estimator.evaluate(input_fn=input_fn))"
   ]
  },
  {
   "cell_type": "markdown",
   "metadata": {},
   "source": [
    "## Mnist Softmax"
   ]
  },
  {
   "cell_type": "code",
   "execution_count": 7,
   "metadata": {},
   "outputs": [
    {
     "name": "stdout",
     "output_type": "stream",
     "text": [
      "Successfully downloaded train-images-idx3-ubyte.gz 9912422 bytes.\n",
      "Extracting /tmp/tensorflow/mnist/input_data/train-images-idx3-ubyte.gz\n",
      "Successfully downloaded train-labels-idx1-ubyte.gz 28881 bytes.\n",
      "Extracting /tmp/tensorflow/mnist/input_data/train-labels-idx1-ubyte.gz\n",
      "Successfully downloaded t10k-images-idx3-ubyte.gz 1648877 bytes.\n",
      "Extracting /tmp/tensorflow/mnist/input_data/t10k-images-idx3-ubyte.gz\n",
      "Successfully downloaded t10k-labels-idx1-ubyte.gz 4542 bytes.\n",
      "Extracting /tmp/tensorflow/mnist/input_data/t10k-labels-idx1-ubyte.gz\n",
      "0.9191\n"
     ]
    },
    {
     "ename": "SystemExit",
     "evalue": "",
     "output_type": "error",
     "traceback": [
      "An exception has occurred, use %tb to see the full traceback.\n",
      "\u001b[0;31mSystemExit\u001b[0m\n"
     ]
    },
    {
     "name": "stderr",
     "output_type": "stream",
     "text": [
      "/Users/nahmad/anaconda2/envs/py36/lib/python3.6/site-packages/IPython/core/interactiveshell.py:2889: UserWarning: To exit: use 'exit', 'quit', or Ctrl-D.\n",
      "  warn(\"To exit: use 'exit', 'quit', or Ctrl-D.\", stacklevel=1)\n"
     ]
    }
   ],
   "source": [
    "from tensorflow.examples.tutorials.mnist import input_data\n",
    "import tensorflow as tf\n",
    "import argparse\n",
    "import sys\n",
    "\n",
    "\n",
    "FLAGS = None\n",
    "\n",
    "def main1(_):\n",
    "    # Import data\n",
    "    mnist = input_data.read_data_sets(FLAGS.data_dir, one_hot=True)\n",
    "\n",
    "    # Create the model\n",
    "    x = tf.placeholder(tf.float32, [None, 784])\n",
    "    W = tf.Variable(tf.zeros([784, 10]))\n",
    "    b = tf.Variable(tf.zeros([10]))\n",
    "    y = tf.matmul(x, W) + b\n",
    "\n",
    "    # Define loss and optimizer\n",
    "    y_ = tf.placeholder(tf.float32, [None, 10])\n",
    "\n",
    "    # The raw formulation of cross-entropy,\n",
    "    #\n",
    "    #   tf.reduce_mean(-tf.reduce_sum(y_ * tf.log(tf.nn.softmax(y)),\n",
    "    #                                 reduction_indices=[1]))\n",
    "    #\n",
    "    # can be numerically unstable.\n",
    "    #\n",
    "    # So here we use tf.nn.softmax_cross_entropy_with_logits on the raw\n",
    "    # outputs of 'y', and then average across the batch.\n",
    "\n",
    "    cross_entropy = tf.reduce_mean(\n",
    "      tf.nn.softmax_cross_entropy_with_logits(labels=y_, logits=y))\n",
    "    train_step = tf.train.GradientDescentOptimizer(0.5).minimize(cross_entropy)\n",
    "\n",
    "    sess = tf.InteractiveSession()\n",
    "    tf.global_variables_initializer().run()\n",
    "\n",
    "    # Train\n",
    "    for _ in range(1000):\n",
    "        batch_xs, batch_ys = mnist.train.next_batch(100)\n",
    "        sess.run(train_step, feed_dict={x: batch_xs, y_: batch_ys})\n",
    "\n",
    "    # Test trained model\n",
    "    correct_prediction = tf.equal(tf.argmax(y, 1), tf.argmax(y_, 1))\n",
    "    accuracy = tf.reduce_mean(tf.cast(correct_prediction, tf.float32))\n",
    "\n",
    "    print(sess.run(accuracy, feed_dict={x: mnist.test.images,\n",
    "                                      y_: mnist.test.labels}))\n",
    "    \n",
    "\n",
    "    \n",
    "parser = argparse.ArgumentParser()\n",
    "parser.add_argument('--data_dir', type=str, default='/tmp/tensorflow/mnist/input_data',\n",
    "                  help='Directory for storing input data')\n",
    "FLAGS, unparsed = parser.parse_known_args(\"\")\n",
    "\n",
    "tf.app.run(main=main1)\n"
   ]
  },
  {
   "cell_type": "markdown",
   "metadata": {
    "collapsed": true
   },
   "source": [
    "## Mnist Convolution "
   ]
  },
  {
   "cell_type": "code",
   "execution_count": 8,
   "metadata": {},
   "outputs": [
    {
     "name": "stdout",
     "output_type": "stream",
     "text": [
      "Successfully downloaded train-images-idx3-ubyte.gz 9912422 bytes.\n",
      "Extracting /tmp/data/train-images-idx3-ubyte.gz\n",
      "Successfully downloaded train-labels-idx1-ubyte.gz 28881 bytes.\n",
      "Extracting /tmp/data/train-labels-idx1-ubyte.gz\n",
      "Successfully downloaded t10k-images-idx3-ubyte.gz 1648877 bytes.\n",
      "Extracting /tmp/data/t10k-images-idx3-ubyte.gz\n",
      "Successfully downloaded t10k-labels-idx1-ubyte.gz 4542 bytes.\n",
      "Extracting /tmp/data/t10k-labels-idx1-ubyte.gz\n",
      "Iter 1280, Minibatch Loss= 22469.199219, Training Accuracy= 0.28125\n",
      "Iter 2560, Minibatch Loss= 9688.896484, Training Accuracy= 0.57812\n",
      "Iter 3840, Minibatch Loss= 4534.458008, Training Accuracy= 0.73438\n",
      "Iter 5120, Minibatch Loss= 5309.243164, Training Accuracy= 0.70312\n",
      "Iter 6400, Minibatch Loss= 4053.856934, Training Accuracy= 0.78125\n",
      "Iter 7680, Minibatch Loss= 3017.647949, Training Accuracy= 0.81250\n",
      "Iter 8960, Minibatch Loss= 2473.896484, Training Accuracy= 0.85938\n",
      "Iter 10240, Minibatch Loss= 2305.780518, Training Accuracy= 0.85156\n",
      "Iter 11520, Minibatch Loss= 2716.049805, Training Accuracy= 0.82031\n",
      "Iter 12800, Minibatch Loss= 1576.426514, Training Accuracy= 0.90625\n",
      "Iter 14080, Minibatch Loss= 2556.030762, Training Accuracy= 0.87500\n",
      "Iter 15360, Minibatch Loss= 2062.560059, Training Accuracy= 0.87500\n",
      "Iter 16640, Minibatch Loss= 2444.705322, Training Accuracy= 0.88281\n",
      "Iter 17920, Minibatch Loss= 1025.197266, Training Accuracy= 0.92969\n",
      "Iter 19200, Minibatch Loss= 1344.196289, Training Accuracy= 0.89844\n",
      "Iter 20480, Minibatch Loss= 413.485840, Training Accuracy= 0.95312\n",
      "Iter 21760, Minibatch Loss= 2633.324463, Training Accuracy= 0.85938\n",
      "Iter 23040, Minibatch Loss= 1198.750488, Training Accuracy= 0.90625\n",
      "Iter 24320, Minibatch Loss= 1888.433838, Training Accuracy= 0.92969\n",
      "Iter 25600, Minibatch Loss= 1001.612183, Training Accuracy= 0.96094\n",
      "Iter 26880, Minibatch Loss= 1461.403809, Training Accuracy= 0.91406\n",
      "Iter 28160, Minibatch Loss= 1502.187988, Training Accuracy= 0.89062\n",
      "Iter 29440, Minibatch Loss= 1149.234863, Training Accuracy= 0.93750\n",
      "Iter 30720, Minibatch Loss= 1025.213013, Training Accuracy= 0.92188\n",
      "Iter 32000, Minibatch Loss= 2221.696777, Training Accuracy= 0.88281\n",
      "Iter 33280, Minibatch Loss= 1283.658325, Training Accuracy= 0.93750\n",
      "Iter 34560, Minibatch Loss= 588.981018, Training Accuracy= 0.93750\n",
      "Iter 35840, Minibatch Loss= 1544.286377, Training Accuracy= 0.93750\n",
      "Iter 37120, Minibatch Loss= 482.402008, Training Accuracy= 0.96094\n",
      "Iter 38400, Minibatch Loss= 239.629486, Training Accuracy= 0.96875\n",
      "Iter 39680, Minibatch Loss= 1086.382812, Training Accuracy= 0.92188\n",
      "Iter 40960, Minibatch Loss= 889.153198, Training Accuracy= 0.92188\n",
      "Iter 42240, Minibatch Loss= 616.164185, Training Accuracy= 0.92188\n",
      "Iter 43520, Minibatch Loss= 989.732056, Training Accuracy= 0.92188\n",
      "Iter 44800, Minibatch Loss= 499.636566, Training Accuracy= 0.95312\n",
      "Iter 46080, Minibatch Loss= 1110.048096, Training Accuracy= 0.94531\n",
      "Iter 47360, Minibatch Loss= 1518.405396, Training Accuracy= 0.93750\n",
      "Iter 48640, Minibatch Loss= 579.667725, Training Accuracy= 0.95312\n",
      "Iter 49920, Minibatch Loss= 512.131958, Training Accuracy= 0.94531\n",
      "Iter 51200, Minibatch Loss= 605.357605, Training Accuracy= 0.96094\n",
      "Iter 52480, Minibatch Loss= 179.699524, Training Accuracy= 0.98438\n",
      "Iter 53760, Minibatch Loss= 738.229431, Training Accuracy= 0.95312\n",
      "Iter 55040, Minibatch Loss= 229.524811, Training Accuracy= 0.97656\n",
      "Iter 56320, Minibatch Loss= 683.558777, Training Accuracy= 0.96094\n",
      "Iter 57600, Minibatch Loss= 722.740479, Training Accuracy= 0.96875\n",
      "Iter 58880, Minibatch Loss= 1301.506714, Training Accuracy= 0.92188\n",
      "Iter 60160, Minibatch Loss= 632.612671, Training Accuracy= 0.91406\n",
      "Iter 61440, Minibatch Loss= 613.230225, Training Accuracy= 0.96094\n",
      "Iter 62720, Minibatch Loss= 1153.954346, Training Accuracy= 0.91406\n",
      "Iter 64000, Minibatch Loss= 731.602051, Training Accuracy= 0.92969\n",
      "Iter 65280, Minibatch Loss= 347.544800, Training Accuracy= 0.96875\n",
      "Iter 66560, Minibatch Loss= 646.782288, Training Accuracy= 0.95312\n",
      "Iter 67840, Minibatch Loss= 907.359558, Training Accuracy= 0.93750\n",
      "Iter 69120, Minibatch Loss= 348.464447, Training Accuracy= 0.95312\n",
      "Iter 70400, Minibatch Loss= 132.959229, Training Accuracy= 0.94531\n",
      "Iter 71680, Minibatch Loss= 204.756927, Training Accuracy= 0.96875\n",
      "Iter 72960, Minibatch Loss= 150.391846, Training Accuracy= 0.97656\n",
      "Iter 74240, Minibatch Loss= 323.163391, Training Accuracy= 0.94531\n",
      "Iter 75520, Minibatch Loss= 349.381989, Training Accuracy= 0.95312\n",
      "Iter 76800, Minibatch Loss= 201.604523, Training Accuracy= 0.94531\n",
      "Iter 78080, Minibatch Loss= 667.751221, Training Accuracy= 0.97656\n",
      "Iter 79360, Minibatch Loss= 431.595612, Training Accuracy= 0.96094\n",
      "Iter 80640, Minibatch Loss= 667.466309, Training Accuracy= 0.94531\n",
      "Iter 81920, Minibatch Loss= 512.873718, Training Accuracy= 0.92969\n",
      "Iter 83200, Minibatch Loss= 259.620361, Training Accuracy= 0.96875\n",
      "Iter 84480, Minibatch Loss= 89.298950, Training Accuracy= 0.98438\n",
      "Iter 85760, Minibatch Loss= 601.505249, Training Accuracy= 0.90625\n",
      "Iter 87040, Minibatch Loss= 255.967331, Training Accuracy= 0.96094\n",
      "Iter 88320, Minibatch Loss= 363.574036, Training Accuracy= 0.96094\n",
      "Iter 89600, Minibatch Loss= 358.706604, Training Accuracy= 0.96875\n",
      "Iter 90880, Minibatch Loss= 201.145279, Training Accuracy= 0.96875\n",
      "Iter 92160, Minibatch Loss= 378.198700, Training Accuracy= 0.95312\n",
      "Iter 93440, Minibatch Loss= 389.220337, Training Accuracy= 0.95312\n",
      "Iter 94720, Minibatch Loss= 413.076294, Training Accuracy= 0.96875\n",
      "Iter 96000, Minibatch Loss= 379.916626, Training Accuracy= 0.95312\n",
      "Iter 97280, Minibatch Loss= 95.167023, Training Accuracy= 0.98438\n",
      "Iter 98560, Minibatch Loss= 226.680847, Training Accuracy= 0.97656\n",
      "Iter 99840, Minibatch Loss= 125.082085, Training Accuracy= 0.97656\n",
      "Iter 101120, Minibatch Loss= 368.069122, Training Accuracy= 0.94531\n",
      "Iter 102400, Minibatch Loss= 368.354584, Training Accuracy= 0.96094\n",
      "Iter 103680, Minibatch Loss= 221.074036, Training Accuracy= 0.97656\n",
      "Iter 104960, Minibatch Loss= 49.585312, Training Accuracy= 0.96875\n",
      "Iter 106240, Minibatch Loss= 183.750259, Training Accuracy= 0.94531\n",
      "Iter 107520, Minibatch Loss= 239.378799, Training Accuracy= 0.96875\n",
      "Iter 108800, Minibatch Loss= 399.661316, Training Accuracy= 0.96094\n",
      "Iter 110080, Minibatch Loss= 283.362610, Training Accuracy= 0.96875\n",
      "Iter 111360, Minibatch Loss= 72.514648, Training Accuracy= 0.97656\n",
      "Iter 112640, Minibatch Loss= 31.244003, Training Accuracy= 0.99219\n",
      "Iter 113920, Minibatch Loss= 276.990173, Training Accuracy= 0.97656\n",
      "Iter 115200, Minibatch Loss= 251.621094, Training Accuracy= 0.98438\n",
      "Iter 116480, Minibatch Loss= 323.760498, Training Accuracy= 0.96094\n",
      "Iter 117760, Minibatch Loss= 0.000000, Training Accuracy= 1.00000\n",
      "Iter 119040, Minibatch Loss= 216.477600, Training Accuracy= 0.96875\n",
      "Iter 120320, Minibatch Loss= 524.684570, Training Accuracy= 0.96875\n",
      "Iter 121600, Minibatch Loss= 136.409241, Training Accuracy= 0.98438\n",
      "Iter 122880, Minibatch Loss= 243.228195, Training Accuracy= 0.96094\n",
      "Iter 124160, Minibatch Loss= 113.497635, Training Accuracy= 0.99219\n",
      "Iter 125440, Minibatch Loss= 55.100006, Training Accuracy= 0.97656\n",
      "Iter 126720, Minibatch Loss= 271.309814, Training Accuracy= 0.95312\n",
      "Iter 128000, Minibatch Loss= 403.557556, Training Accuracy= 0.94531\n",
      "Iter 129280, Minibatch Loss= 281.791412, Training Accuracy= 0.97656\n",
      "Iter 130560, Minibatch Loss= 260.910400, Training Accuracy= 0.96094\n",
      "Iter 131840, Minibatch Loss= 147.779037, Training Accuracy= 0.97656\n",
      "Iter 133120, Minibatch Loss= 267.354675, Training Accuracy= 0.97656\n",
      "Iter 134400, Minibatch Loss= 136.629837, Training Accuracy= 0.96875\n",
      "Iter 135680, Minibatch Loss= 291.427612, Training Accuracy= 0.95312\n",
      "Iter 136960, Minibatch Loss= 229.383484, Training Accuracy= 0.95312\n",
      "Iter 138240, Minibatch Loss= 442.266205, Training Accuracy= 0.96094\n",
      "Iter 139520, Minibatch Loss= 272.521912, Training Accuracy= 0.96094\n",
      "Iter 140800, Minibatch Loss= 315.650604, Training Accuracy= 0.95312\n",
      "Iter 142080, Minibatch Loss= 247.499649, Training Accuracy= 0.96094\n",
      "Iter 143360, Minibatch Loss= 149.515305, Training Accuracy= 0.97656\n",
      "Iter 144640, Minibatch Loss= 325.200134, Training Accuracy= 0.95312\n",
      "Iter 145920, Minibatch Loss= 451.213562, Training Accuracy= 0.97656\n",
      "Iter 147200, Minibatch Loss= 16.408630, Training Accuracy= 0.99219\n"
     ]
    },
    {
     "name": "stdout",
     "output_type": "stream",
     "text": [
      "Iter 148480, Minibatch Loss= 460.820465, Training Accuracy= 0.95312\n",
      "Iter 149760, Minibatch Loss= 232.128677, Training Accuracy= 0.95312\n",
      "Iter 151040, Minibatch Loss= 168.828171, Training Accuracy= 0.96094\n",
      "Iter 152320, Minibatch Loss= 140.128754, Training Accuracy= 0.97656\n",
      "Iter 153600, Minibatch Loss= 123.327728, Training Accuracy= 0.97656\n",
      "Iter 154880, Minibatch Loss= 105.397865, Training Accuracy= 0.96875\n",
      "Iter 156160, Minibatch Loss= 66.807327, Training Accuracy= 0.97656\n",
      "Iter 157440, Minibatch Loss= 376.131714, Training Accuracy= 0.95312\n",
      "Iter 158720, Minibatch Loss= 413.877930, Training Accuracy= 0.97656\n",
      "Iter 160000, Minibatch Loss= 177.611984, Training Accuracy= 0.96094\n",
      "Iter 161280, Minibatch Loss= 18.608948, Training Accuracy= 0.99219\n",
      "Iter 162560, Minibatch Loss= 337.329376, Training Accuracy= 0.95312\n",
      "Iter 163840, Minibatch Loss= 204.077530, Training Accuracy= 0.96875\n",
      "Iter 165120, Minibatch Loss= 237.645569, Training Accuracy= 0.96875\n",
      "Iter 166400, Minibatch Loss= 358.565430, Training Accuracy= 0.96094\n",
      "Iter 167680, Minibatch Loss= 273.093781, Training Accuracy= 0.96094\n",
      "Iter 168960, Minibatch Loss= 135.708664, Training Accuracy= 0.98438\n",
      "Iter 170240, Minibatch Loss= 490.741852, Training Accuracy= 0.94531\n",
      "Iter 171520, Minibatch Loss= 0.000000, Training Accuracy= 1.00000\n",
      "Iter 172800, Minibatch Loss= 58.553581, Training Accuracy= 0.98438\n",
      "Iter 174080, Minibatch Loss= 354.314545, Training Accuracy= 0.94531\n",
      "Iter 175360, Minibatch Loss= 0.000000, Training Accuracy= 1.00000\n",
      "Iter 176640, Minibatch Loss= 72.659645, Training Accuracy= 0.97656\n",
      "Iter 177920, Minibatch Loss= 351.979187, Training Accuracy= 0.96875\n",
      "Iter 179200, Minibatch Loss= 33.592957, Training Accuracy= 0.98438\n",
      "Iter 180480, Minibatch Loss= 118.644928, Training Accuracy= 0.97656\n",
      "Iter 181760, Minibatch Loss= 259.110168, Training Accuracy= 0.95312\n",
      "Iter 183040, Minibatch Loss= 116.402145, Training Accuracy= 0.96875\n",
      "Iter 184320, Minibatch Loss= 254.721893, Training Accuracy= 0.95312\n",
      "Iter 185600, Minibatch Loss= 63.689110, Training Accuracy= 0.98438\n",
      "Iter 186880, Minibatch Loss= 160.554626, Training Accuracy= 0.95312\n",
      "Iter 188160, Minibatch Loss= 13.901314, Training Accuracy= 0.99219\n",
      "Iter 189440, Minibatch Loss= 0.000000, Training Accuracy= 1.00000\n",
      "Iter 190720, Minibatch Loss= 123.108269, Training Accuracy= 0.98438\n",
      "Iter 192000, Minibatch Loss= 149.416733, Training Accuracy= 0.97656\n",
      "Iter 193280, Minibatch Loss= 66.576691, Training Accuracy= 0.97656\n",
      "Iter 194560, Minibatch Loss= 318.691132, Training Accuracy= 0.94531\n",
      "Iter 195840, Minibatch Loss= 44.493416, Training Accuracy= 0.98438\n",
      "Iter 197120, Minibatch Loss= 124.070648, Training Accuracy= 0.98438\n",
      "Iter 198400, Minibatch Loss= 220.578323, Training Accuracy= 0.98438\n",
      "Iter 199680, Minibatch Loss= 87.613907, Training Accuracy= 0.98438\n",
      "Optimization Finished!\n",
      "Testing Accuracy: 0.984375\n"
     ]
    }
   ],
   "source": [
    "import tensorflow as tf\n",
    "\n",
    "# Import MNIST data\n",
    "from tensorflow.examples.tutorials.mnist import input_data\n",
    "mnist = input_data.read_data_sets(\"/tmp/data/\", one_hot=True)\n",
    "\n",
    "# Parameters\n",
    "learning_rate = 0.001\n",
    "training_iters = 200000\n",
    "batch_size = 128\n",
    "display_step = 10\n",
    "\n",
    "# Network Parameters\n",
    "n_input = 784 # MNIST data input (img shape: 28*28)\n",
    "n_classes = 10 # MNIST total classes (0-9 digits)\n",
    "dropout = 0.75 # Dropout, probability to keep units\n",
    "\n",
    "# tf Graph input\n",
    "x = tf.placeholder(tf.float32, [None, n_input])\n",
    "y = tf.placeholder(tf.float32, [None, n_classes])\n",
    "keep_prob = tf.placeholder(tf.float32) #dropout (keep probability)\n",
    "\n",
    "\n",
    "# Create some wrappers for simplicity\n",
    "def conv2d(x, W, b, strides=1):\n",
    "    # Conv2D wrapper, with bias and relu activation\n",
    "    x = tf.nn.conv2d(x, W, strides=[1, strides, strides, 1], padding='SAME')\n",
    "    x = tf.nn.bias_add(x, b)\n",
    "    return tf.nn.relu(x)\n",
    "\n",
    "\n",
    "def maxpool2d(x, k=2):\n",
    "    # MaxPool2D wrapper\n",
    "    return tf.nn.max_pool(x, ksize=[1, k, k, 1], strides=[1, k, k, 1],\n",
    "                          padding='SAME')\n",
    "\n",
    "\n",
    "# Create model\n",
    "def conv_net(x, weights, biases, dropout):\n",
    "    # Reshape input picture\n",
    "    x = tf.reshape(x, shape=[-1, 28, 28, 1])\n",
    "\n",
    "    # Convolution Layer\n",
    "    conv1 = conv2d(x, weights['wc1'], biases['bc1'])\n",
    "    # Max Pooling (down-sampling)\n",
    "    conv1 = maxpool2d(conv1, k=2)\n",
    "\n",
    "    # Convolution Layer\n",
    "    conv2 = conv2d(conv1, weights['wc2'], biases['bc2'])\n",
    "    # Max Pooling (down-sampling)\n",
    "    conv2 = maxpool2d(conv2, k=2)\n",
    "\n",
    "    # Fully connected layer\n",
    "    # Reshape conv2 output to fit fully connected layer input\n",
    "    fc1 = tf.reshape(conv2, [-1, weights['wd1'].get_shape().as_list()[0]])\n",
    "    fc1 = tf.add(tf.matmul(fc1, weights['wd1']), biases['bd1'])\n",
    "    fc1 = tf.nn.relu(fc1)\n",
    "    # Apply Dropout\n",
    "    fc1 = tf.nn.dropout(fc1, dropout)\n",
    "\n",
    "    # Output, class prediction\n",
    "    out = tf.add(tf.matmul(fc1, weights['out']), biases['out'])\n",
    "    return out\n",
    "\n",
    "# Store layers weight & bias\n",
    "weights = {\n",
    "    # 5x5 conv, 1 input, 32 outputs\n",
    "    'wc1': tf.Variable(tf.random_normal([5, 5, 1, 32])),\n",
    "    # 5x5 conv, 32 inputs, 64 outputs\n",
    "    'wc2': tf.Variable(tf.random_normal([5, 5, 32, 64])),\n",
    "    # fully connected, 7*7*64 inputs, 1024 outputs\n",
    "    'wd1': tf.Variable(tf.random_normal([7*7*64, 1024])),\n",
    "    # 1024 inputs, 10 outputs (class prediction)\n",
    "    'out': tf.Variable(tf.random_normal([1024, n_classes]))\n",
    "}\n",
    "\n",
    "biases = {\n",
    "    'bc1': tf.Variable(tf.random_normal([32])),\n",
    "    'bc2': tf.Variable(tf.random_normal([64])),\n",
    "    'bd1': tf.Variable(tf.random_normal([1024])),\n",
    "    'out': tf.Variable(tf.random_normal([n_classes]))\n",
    "}\n",
    "\n",
    "# Construct model\n",
    "pred = conv_net(x, weights, biases, keep_prob)\n",
    "\n",
    "# Define loss and optimizer\n",
    "cost = tf.reduce_mean(tf.nn.softmax_cross_entropy_with_logits(logits=pred, labels=y))\n",
    "optimizer = tf.train.AdamOptimizer(learning_rate=learning_rate).minimize(cost)\n",
    "\n",
    "# Evaluate model\n",
    "correct_pred = tf.equal(tf.argmax(pred, 1), tf.argmax(y, 1))\n",
    "accuracy = tf.reduce_mean(tf.cast(correct_pred, tf.float32))\n",
    "\n",
    "# Initializing the variables\n",
    "init = tf.global_variables_initializer()\n",
    "\n",
    "# Launch the graph\n",
    "with tf.Session() as sess:\n",
    "    sess.run(init)\n",
    "    step = 1\n",
    "    # Keep training until reach max iterations\n",
    "    while step * batch_size < training_iters:\n",
    "        batch_x, batch_y = mnist.train.next_batch(batch_size)\n",
    "        # Run optimization op (backprop)\n",
    "        sess.run(optimizer, feed_dict={x: batch_x, y: batch_y,\n",
    "                                       keep_prob: dropout})\n",
    "        if step % display_step == 0:\n",
    "            # Calculate batch loss and accuracy\n",
    "            loss, acc = sess.run([cost, accuracy], feed_dict={x: batch_x,\n",
    "                                                              y: batch_y,\n",
    "                                                              keep_prob: 1.})\n",
    "            print(\"Iter \" + str(step*batch_size) + \", Minibatch Loss= \" + \\\n",
    "                  \"{:.6f}\".format(loss) + \", Training Accuracy= \" + \\\n",
    "                  \"{:.5f}\".format(acc))\n",
    "        step += 1\n",
    "    print(\"Optimization Finished!\")\n",
    "\n",
    "    # Calculate accuracy for 256 mnist test images\n",
    "    print(\"Testing Accuracy:\", \\\n",
    "        sess.run(accuracy, feed_dict={x: mnist.test.images[:256],\n",
    "                                      y: mnist.test.labels[:256],\n",
    "                                      keep_prob: 1.}))"
   ]
  },
  {
   "cell_type": "markdown",
   "metadata": {
    "collapsed": true
   },
   "source": [
    "### TensorBoard Example"
   ]
  },
  {
   "cell_type": "code",
   "execution_count": 4,
   "metadata": {},
   "outputs": [
    {
     "name": "stdout",
     "output_type": "stream",
     "text": [
      "[5 8]\n"
     ]
    }
   ],
   "source": [
    "import tensorflow as tf\n",
    "a = tf.constant([2, 2], name=\"a\")\n",
    "b = tf.constant([3, 6], name=\"b\")\n",
    "x = tf.add(a, b, name=\"add\")\n",
    "x = tf.add(a,b)\n",
    "\n",
    "with tf.Session() as sess:\n",
    "    writer = tf.summary.FileWriter('./graphs', sess.graph)\n",
    "    print (sess.run(x))\n",
    "\n",
    "# close the writer when you’re done using it\n",
    "writer.close()"
   ]
  },
  {
   "cell_type": "markdown",
   "metadata": {
    "collapsed": true
   },
   "source": [
    "### TFRecord"
   ]
  },
  {
   "cell_type": "code",
   "execution_count": 2,
   "metadata": {
    "collapsed": true
   },
   "outputs": [],
   "source": [
    "#example from https://github.com/chiphuyen/tf-stanford-tutorials/blob/master/examples/09_tfrecord_example.py\n",
    "import os\n",
    "os.environ['TF_CPP_MIN_LOG_LEVEL']='2'\n",
    "\n",
    "import sys\n",
    "sys.path.append('..')\n",
    "\n",
    "from PIL import Image\n",
    "import numpy as np\n",
    "import matplotlib.pyplot as plt\n",
    "import tensorflow as tf\n",
    "\n",
    "# image supposed to have shape: 480 x 640 x 3 = 921600\n",
    "IMAGE_PATH = 'data/'\n",
    "\n",
    "def _int64_feature(value):\n",
    "  return tf.train.Feature(int64_list=tf.train.Int64List(value=[value]))\n",
    "\n",
    "def _bytes_feature(value):\n",
    "  return tf.train.Feature(bytes_list=tf.train.BytesList(value=[value]))\n",
    "\n",
    "def get_image_binary(filename):\n",
    "    \"\"\" You can read in the image using tensorflow too, but it's a drag\n",
    "        since you have to create graphs. It's much easier using Pillow and NumPy\n",
    "    \"\"\"\n",
    "    image = Image.open(filename)\n",
    "    image = np.asarray(image, np.uint8)\n",
    "    shape = np.array(image.shape, np.int32)\n",
    "    return shape.tobytes(), image.tobytes() # convert image to raw data bytes in the array.\n",
    "\n",
    "def write_to_tfrecord(label, shape, binary_image, tfrecord_file):\n",
    "    \"\"\" This example is to write a sample to TFRecord file. If you want to write\n",
    "    more samples, just use a loop.\n",
    "    \"\"\"\n",
    "    writer = tf.python_io.TFRecordWriter(tfrecord_file)\n",
    "    # write label, shape, and image content to the TFRecord file\n",
    "    example = tf.train.Example(features=tf.train.Features(feature={\n",
    "                'label': _int64_feature(label),\n",
    "                'shape': _bytes_feature(shape),\n",
    "                'image': _bytes_feature(binary_image)\n",
    "                }))\n",
    "    writer.write(example.SerializeToString())\n",
    "    writer.close()\n",
    "\n",
    "def write_tfrecord(label, image_file, tfrecord_file):\n",
    "    shape, binary_image = get_image_binary(image_file)\n",
    "    write_to_tfrecord(label, shape, binary_image, tfrecord_file)"
   ]
  },
  {
   "cell_type": "code",
   "execution_count": 3,
   "metadata": {
    "collapsed": true
   },
   "outputs": [],
   "source": [
    "# write tfrecord\n",
    "label = 1 \n",
    "image_file = IMAGE_PATH + 'friday.jpg'\n",
    "tfrecord_file = IMAGE_PATH + 'friday.tfrecord'\n",
    "write_tfrecord(label, image_file, tfrecord_file)\n"
   ]
  },
  {
   "cell_type": "code",
   "execution_count": 4,
   "metadata": {
    "collapsed": true
   },
   "outputs": [],
   "source": [
    "def read_from_tfrecord(filenames):\n",
    "    tfrecord_file_queue = tf.train.string_input_producer(filenames, name='queue')\n",
    "    reader = tf.TFRecordReader()\n",
    "    _, tfrecord_serialized = reader.read(tfrecord_file_queue)\n",
    "\n",
    "    # label and image are stored as bytes but could be stored as \n",
    "    # int64 or float64 values in a serialized tf.Example protobuf.\n",
    "    tfrecord_features = tf.parse_single_example(tfrecord_serialized,\n",
    "                        features={\n",
    "                            'label': tf.FixedLenFeature([], tf.int64),\n",
    "                            'shape': tf.FixedLenFeature([], tf.string),\n",
    "                            'image': tf.FixedLenFeature([], tf.string),\n",
    "                        }, name='features')\n",
    "    # image was saved as uint8, so we have to decode as uint8.\n",
    "    image = tf.decode_raw(tfrecord_features['image'], tf.uint8)\n",
    "    shape = tf.decode_raw(tfrecord_features['shape'], tf.int32)\n",
    "    # the image tensor is flattened out, so we have to reconstruct the shape\n",
    "    image = tf.reshape(image, shape)\n",
    "    label = tfrecord_features['label']\n",
    "    return label, shape, image\n",
    "\n",
    "def read_tfrecord(tfrecord_file):\n",
    "    label, shape, image = read_from_tfrecord([tfrecord_file])\n",
    "\n",
    "    with tf.Session() as sess:\n",
    "        coord = tf.train.Coordinator()\n",
    "        threads = tf.train.start_queue_runners(coord=coord)\n",
    "        label, image, shape = sess.run([label, image, shape])\n",
    "        coord.request_stop()\n",
    "        coord.join(threads)\n",
    "    print(label)\n",
    "    print(shape)\n",
    "    plt.imshow(image)\n",
    "    plt.show()"
   ]
  },
  {
   "cell_type": "code",
   "execution_count": 6,
   "metadata": {},
   "outputs": [
    {
     "name": "stdout",
     "output_type": "stream",
     "text": [
      "1\n",
      "[322 403   3]\n"
     ]
    },
    {
     "data": {
      "image/png": "[encoded data removed]",
      "text/plain": [
       "<matplotlib.figure.Figure at 0x11bcf5fd0>"
      ]
     },
     "metadata": {},
     "output_type": "display_data"
    }
   ],
   "source": [
    "read_tfrecord(tfrecord_file)"
   ]
  },
  {
   "cell_type": "markdown",
   "metadata": {},
   "source": [
    "### Queues and Threads"
   ]
  },
  {
   "cell_type": "code",
   "execution_count": 11,
   "metadata": {},
   "outputs": [
    {
     "name": "stdout",
     "output_type": "stream",
     "text": [
      "(1000, 4)\n",
      "[ -3.75682045  -7.62788714   3.57928583  10.92023184]\n",
      "(1000,)\n",
      "0\n"
     ]
    }
   ],
   "source": [
    "#Example from https://github.com/chiphuyen/tf-stanford-tutorials/blob/master/examples/09_queue_example.py\n",
    "N_SAMPLES = 1000\n",
    "NUM_THREADS = 4\n",
    "\n",
    "data = 10 * np.random.randn(N_SAMPLES, 4) + 1 \n",
    "print (data.shape)\n",
    "print (data[0])\n",
    "# create 1000 random labels of 0 and 1\n",
    "target = np.random.randint(0, 2, size=N_SAMPLES) \n",
    "print (target.shape)\n",
    "print (target[0])"
   ]
  },
  {
   "cell_type": "code",
   "execution_count": 13,
   "metadata": {},
   "outputs": [
    {
     "name": "stdout",
     "output_type": "stream",
     "text": [
      "[ -3.75682044  -7.62788725   3.57928586  10.92023182]\n",
      "0\n",
      "[  8.4301815   12.91631889  15.12774849 -14.6158886 ]\n",
      "1\n",
      "[ 18.95965195   0.36353713  -1.44373024   8.22130871]\n",
      "1\n",
      "[ 4.93827343 -5.67915154  9.8135643  -9.98721409]\n",
      "0\n",
      "[  5.95766449 -22.47851372 -17.61420441  23.70749664]\n",
      "0\n",
      "[  3.32130861  15.91544819  -6.17239475  18.65179825]\n",
      "0\n",
      "[  2.78415728 -10.74323273   4.15628719  -6.42623234]\n",
      "1\n",
      "[ -5.78512955  22.21388245  24.88416862   3.04967952]\n",
      "1\n",
      "[-20.11832619   5.11196566  18.0784626    3.68860054]\n",
      "0\n",
      "[  2.23611975  -4.77511215  -5.27372837  14.63363361]\n",
      "1\n"
     ]
    }
   ],
   "source": [
    "queue = tf.FIFOQueue(capacity=50, dtypes=[tf.float32, tf.int32], shapes=[[4], []])\n",
    "enqueue_op = queue.enqueue_many([data, target])\n",
    "data_sample, label_sample = queue.dequeue()\n",
    "\n",
    "# create NUM_THREADS to do enqueue\n",
    "qr = tf.train.QueueRunner(queue, [enqueue_op] * NUM_THREADS)\n",
    "with tf.Session() as sess:\n",
    "    coord = tf.train.Coordinator()\n",
    "    enqueue_threads = qr.create_threads(sess, coord=coord, start=True)\n",
    "    try:\n",
    "        for step in range(10): # do to 10 iterations\n",
    "            if coord.should_stop():\n",
    "                break\n",
    "            data_batch, label_batch = sess.run([data_sample, label_sample])\n",
    "            print(data_batch)\n",
    "            print(label_batch)\n",
    "    except Exception as e:\n",
    "        coord.request_stop(e)\n",
    "    finally:\n",
    "        coord.request_stop()\n",
    "        coord.join(enqueue_threads)"
   ]
  },
  {
   "cell_type": "markdown",
   "metadata": {},
   "source": [
    "### Checkpoint"
   ]
  },
  {
   "cell_type": "code",
   "execution_count": 54,
   "metadata": {
    "collapsed": true
   },
   "outputs": [],
   "source": [
    "!mkdir -p checkpoint"
   ]
  },
  {
   "cell_type": "code",
   "execution_count": 3,
   "metadata": {},
   "outputs": [
    {
     "name": "stdout",
     "output_type": "stream",
     "text": [
      "23.66\n",
      "W: [-0.9999969] b: [ 0.99999082] loss: 5.69997e-11\n"
     ]
    }
   ],
   "source": [
    "#run the model and store checkpoints every 100 iteration\n",
    "\n",
    "W = tf.Variable([0.3], tf.float32)\n",
    "b = tf.Variable([-0.3], tf.float32)\n",
    "x = tf.placeholder(tf.float32, name=\"x\")\n",
    "linear_model = W * x + b\n",
    "\n",
    "\n",
    "#loss functin mean square error\n",
    "y = tf.placeholder(tf.float32, name =\"y\")\n",
    "squared_deltas = tf.square(linear_model - y)\n",
    "loss = tf.reduce_sum(squared_deltas)\n",
    "\n",
    "# training data\n",
    "x_train = [1,2,3,4]\n",
    "y_train = [0,-1,-2,-3]\n",
    "\n",
    "#instead use gradient decent\n",
    "global_step = tf.Variable(0, dtype=tf.int32, trainable=False, name='global_step')\n",
    "\n",
    "optimizer = tf.train.GradientDescentOptimizer(0.01)\n",
    "train = optimizer.minimize(loss, global_step=global_step)\n",
    "init = tf.global_variables_initializer()\n",
    "\n",
    "# create a saver object\n",
    "saver = tf.train.Saver(max_to_keep=10)\n",
    "\n",
    "\n",
    "with tf.Session() as sess:\n",
    "    sess.run(init) # reset values to incorrect defaults.\n",
    "    print(sess.run(loss, {x:x_train, y:y_train}))\n",
    "    \n",
    "    for i in range(1000):\n",
    "        sess.run(train, {x:x_train, y:y_train})\n",
    "        \n",
    "        if (i + 1) % 100==0:\n",
    "            saver.save(sess, 'checkpoint/linear_model', global_step=global_step)\n",
    "\n",
    "    curr_W, curr_b, curr_loss  = sess.run([W, b, loss], {x:x_train, y:y_train})\n",
    "    print(\"W: %s b: %s loss: %s\"%(curr_W, curr_b, curr_loss))\n"
   ]
  },
  {
   "cell_type": "code",
   "execution_count": 61,
   "metadata": {},
   "outputs": [
    {
     "name": "stdout",
     "output_type": "stream",
     "text": [
      "INFO:tensorflow:Restoring parameters from checkpoint/linear_model-100\n",
      "W: [-0.84079814] b: [ 0.53192717] loss: 0.146364\n",
      "INFO:tensorflow:Restoring parameters from checkpoint/linear_model-700\n",
      "W: [-0.99988455] b: [ 0.99966055] loss: 7.69487e-08\n"
     ]
    }
   ],
   "source": [
    "\n",
    "with tf.Session() as sess:\n",
    "    #now restore a checkpoint say at 600the iteration\n",
    "    saver.restore(sess, 'checkpoint/linear_model-100')\n",
    "    curr_W, curr_b, curr_loss  = sess.run([W, b, loss], {x:x_train, y:y_train})\n",
    "    print(\"W: %s b: %s loss: %s\"%(curr_W, curr_b, curr_loss))\n",
    "    \n",
    "with tf.Session() as sess:\n",
    "    #now restore a checkpoint say at 600the iteration\n",
    "    saver.restore(sess, 'checkpoint/linear_model-700')\n",
    "    curr_W, curr_b, curr_loss  = sess.run([W, b, loss], {x:x_train, y:y_train})\n",
    "    print(\"W: %s b: %s loss: %s\"%(curr_W, curr_b, curr_loss))"
   ]
  },
  {
   "cell_type": "code",
   "execution_count": 62,
   "metadata": {},
   "outputs": [
    {
     "name": "stdout",
     "output_type": "stream",
     "text": [
      "checkpoint/linear_model-1000\n",
      "INFO:tensorflow:Restoring parameters from checkpoint/linear_model-1000\n",
      "W: [-0.9999969] b: [ 0.99999082] loss: 5.69997e-11\n"
     ]
    }
   ],
   "source": [
    "#load the latest checkpoint\n",
    "\n",
    "with tf.Session() as sess:\n",
    "    ckpt = tf.train.get_checkpoint_state(os.path.dirname('checkpoint/'))\n",
    "    if ckpt and ckpt.model_checkpoint_path:\n",
    "        print(ckpt.model_checkpoint_path)\n",
    "        saver.restore(sess, ckpt.model_checkpoint_path)\n",
    "        curr_W, curr_b, curr_loss  = sess.run([W, b, loss], {x:x_train, y:y_train})\n",
    "        print(\"W: %s b: %s loss: %s\"%(curr_W, curr_b, curr_loss))\n",
    "    "
   ]
  },
  {
   "cell_type": "markdown",
   "metadata": {},
   "source": [
    "### Summaries"
   ]
  },
  {
   "cell_type": "code",
   "execution_count": 5,
   "metadata": {},
   "outputs": [
    {
     "name": "stdout",
     "output_type": "stream",
     "text": [
      "Tensor(\"Merge_1/MergeSummary:0\", shape=(), dtype=string)\n",
      "23.66\n",
      "W: [-0.9999969] b: [ 0.99999082] loss: 5.69997e-11\n"
     ]
    }
   ],
   "source": [
    "loss_summary = tf.summary.scalar(\"loss\", loss)\n",
    "hist_summary = tf.summary.histogram(\"histogram_loss\", loss)\n",
    "summ_op = tf.summary.merge([loss_summary,hist_summary])\n",
    " \n",
    "print (summ_op)\n",
    "\n",
    "with tf.Session() as sess:\n",
    "    sess.run(init) # reset values to incorrect defaults.\n",
    "    \n",
    "    print(sess.run(loss, {x:x_train, y:y_train}))\n",
    "    writer = tf.summary.FileWriter('./graphs', sess.graph)\n",
    "    for i in range(1000):\n",
    "        _,_,summary = sess.run([loss,train,summ_op], feed_dict={x:x_train, y:y_train})\n",
    "        writer.add_summary(summary, global_step=i)\n",
    "        \n",
    "    curr_W, curr_b, curr_loss  = sess.run([W, b, loss], {x:x_train, y:y_train})\n",
    "    print(\"W: %s b: %s loss: %s\"%(curr_W, curr_b, curr_loss))\n",
    "    # close the writer when you’re done using it\n",
    "    writer.close()"
   ]
  },
  {
   "cell_type": "markdown",
   "metadata": {},
   "source": [
    "tensorboard --logdir ./graphs/"
   ]
  }
 ],
 "metadata": {
  "anaconda-cloud": {},
  "kernelspec": {
   "display_name": "Python 3",
   "language": "python",
   "name": "python3"
  },
  "language_info": {
   "codemirror_mode": {
    "name": "ipython",
    "version": 3
   },
   "file_extension": ".py",
   "mimetype": "text/x-python",
   "name": "python",
   "nbconvert_exporter": "python",
   "pygments_lexer": "ipython3",
   "version": "3.6.1"
  }
 },
 "nbformat": 4,
 "nbformat_minor": 1
}
