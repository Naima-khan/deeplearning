{
 "cells": [
  {
   "cell_type": "markdown",
   "metadata": {},
   "source": [
    "# Tensorflow Tutorial"
   ]
  },
  {
   "cell_type": "markdown",
   "metadata": {},
   "source": [
    "## Basics"
   ]
  },
  {
   "cell_type": "code",
   "execution_count": 26,
   "metadata": {
    "collapsed": false
   },
   "outputs": [
    {
     "name": "stdout",
     "output_type": "stream",
     "text": [
      "1.1.0\n",
      "(<tf.Tensor 'Const_28:0' shape=() dtype=float32>, <tf.Tensor 'Const_29:0' shape=() dtype=float32>)\n",
      "[3.0, 4.0]\n",
      "('node 3', <tf.Tensor 'Add_2:0' shape=() dtype=float32>)\n",
      "('ses.run(node3) ', 7.0)\n"
     ]
    }
   ],
   "source": [
    "import tensorflow as tf\n",
    "\n",
    "print(tf.__version__)\n",
    "\n",
    "#simple nodes constants\n",
    "node1 = tf.constant(3.0, tf.float32)\n",
    "node2 = tf.constant(4.0) # also tf.float32 implicitly\n",
    "print(node1, node2)\n",
    "\n",
    "sess = tf.Session()\n",
    "print(sess.run([node1, node2]))\n",
    "\n",
    "node3 = tf.add(node1, node2)\n",
    "print (\"node 3\", node3)\n",
    "print (\"ses.run(node3) \", sess.run(node3))\n",
    "\n"
   ]
  },
  {
   "cell_type": "markdown",
   "metadata": {},
   "source": [
    "### Placeholders"
   ]
  },
  {
   "cell_type": "code",
   "execution_count": 3,
   "metadata": {
    "collapsed": false
   },
   "outputs": [
    {
     "name": "stdout",
     "output_type": "stream",
     "text": [
      "7.5\n",
      "[ 3.  6.]\n",
      "15.0\n"
     ]
    }
   ],
   "source": [
    "#placeholders\n",
    "a = tf.placeholder(tf.float32)\n",
    "b = tf.placeholder(tf.float32)\n",
    "adder_node = a + b \n",
    "\n",
    "print(sess.run(adder_node, {a:3, b:4.5}))\n",
    "print(sess.run(adder_node, {a:[1,2], b:[2,4]}))\n",
    "\n",
    "add_and_triple = adder_node  * 3\n",
    "print (sess.run(add_and_triple, {a:3, b:2}))\n"
   ]
  },
  {
   "cell_type": "markdown",
   "metadata": {},
   "source": [
    "### Variables"
   ]
  },
  {
   "cell_type": "code",
   "execution_count": 5,
   "metadata": {
    "collapsed": false
   },
   "outputs": [
    {
     "name": "stdout",
     "output_type": "stream",
     "text": [
      "[ 0.          0.30000001  0.60000002  0.90000004]\n"
     ]
    }
   ],
   "source": [
    "#Variables\n",
    "\n",
    "W = tf.Variable([0.3], tf.float32)\n",
    "b = tf.Variable([-0.3], tf.float32)\n",
    "x = tf.placeholder(tf.float32)\n",
    "linear_model = W * x + b\n",
    "\n",
    "init = tf.global_variables_initializer()\n",
    "sess.run(init)  # to intitalize the variables\n",
    "print(sess.run(linear_model, {x:[1,2,3,4]}))\n",
    "\n"
   ]
  },
  {
   "cell_type": "markdown",
   "metadata": {},
   "source": [
    "### Loss Function With Manual Assing of W and b"
   ]
  },
  {
   "cell_type": "code",
   "execution_count": 6,
   "metadata": {
    "collapsed": false
   },
   "outputs": [
    {
     "name": "stdout",
     "output_type": "stream",
     "text": [
      "23.66\n"
     ]
    },
    {
     "data": {
      "text/plain": [
       "[array([-1.], dtype=float32), array([ 1.], dtype=float32)]"
      ]
     },
     "execution_count": 6,
     "metadata": {},
     "output_type": "execute_result"
    }
   ],
   "source": [
    "#loss functin mean square error\n",
    "y = tf.placeholder(tf.float32)\n",
    "squared_deltas = tf.square(linear_model - y)\n",
    "loss = tf.reduce_sum(squared_deltas)\n",
    "print(sess.run(loss, {x:[1,2,3,4], y:[0,-1,-2,-3]}))\n",
    "\n",
    "# manuall assign W and b i.e overwrite thier intial values\n",
    "fixW = tf.assign(W, [-1.])\n",
    "fixb = tf.assign(b, [1.])\n",
    "\n",
    "# training data\n",
    "x_train = [1,2,3,4]\n",
    "y_train = [0,-1,-2,-3]\n",
    "\n",
    "sess.run([fixW, fixb])"
   ]
  },
  {
   "cell_type": "markdown",
   "metadata": {},
   "source": [
    "### Gradient Decent To Learn W and b"
   ]
  },
  {
   "cell_type": "code",
   "execution_count": 7,
   "metadata": {
    "collapsed": false
   },
   "outputs": [
    {
     "name": "stdout",
     "output_type": "stream",
     "text": [
      "0.0\n",
      "W: [-0.9999969] b: [ 0.99999082] loss: 5.69997e-11\n"
     ]
    }
   ],
   "source": [
    "\n",
    "print(sess.run(loss, {x:[1,2,3,4], y:[0,-1,-2,-3]}))\n",
    "\n",
    "#instead use gradient decent\n",
    "optimizer = tf.train.GradientDescentOptimizer(0.01)\n",
    "train = optimizer.minimize(loss)\n",
    "\n",
    "sess.run(init) # reset values to incorrect defaults.\n",
    "for i in range(1000):\n",
    "  sess.run(train, {x:x_train, y:y_train})\n",
    "\n",
    "curr_W, curr_b, curr_loss  = sess.run([W, b, loss], {x:x_train, y:y_train})\n",
    "print(\"W: %s b: %s loss: %s\"%(curr_W, curr_b, curr_loss))"
   ]
  },
  {
   "cell_type": "markdown",
   "metadata": {},
   "source": [
    "## Using tf.contrib.learn"
   ]
  },
  {
   "cell_type": "code",
   "execution_count": 8,
   "metadata": {
    "collapsed": false
   },
   "outputs": [
    {
     "name": "stdout",
     "output_type": "stream",
     "text": [
      "INFO:tensorflow:Using default config.\n",
      "INFO:tensorflow:Using config: {'_model_dir': None, '_save_checkpoints_secs': 600, '_num_ps_replicas': 0, '_keep_checkpoint_max': 5, '_tf_random_seed': None, '_task_type': None, '_environment': 'local', '_is_chief': True, '_cluster_spec': <tensorflow.python.training.server_lib.ClusterSpec object at 0x11fec6750>, '_tf_config': gpu_options {\n",
      "  per_process_gpu_memory_fraction: 1\n",
      "}\n",
      ", '_num_worker_replicas': 0, '_task_id': 0, '_save_summary_steps': 100, '_save_checkpoints_steps': None, '_evaluation_master': '', '_keep_checkpoint_every_n_hours': 10000, '_master': ''}\n",
      "WARNING:tensorflow:Using temporary folder as model directory: /var/folders/p4/njr18cwn09qbzcq3hykrw09rrkp705/T/tmptjRit7\n",
      "WARNING:tensorflow:Rank of input Tensor (1) should be the same as output_rank (2) for column. Will attempt to expand dims. It is highly recommended that you resize your input, as this behavior may change.\n",
      "WARNING:tensorflow:From /Users/nahmad/anaconda2/lib/python2.7/site-packages/tensorflow/contrib/learn/python/learn/estimators/head.py:615: scalar_summary (from tensorflow.python.ops.logging_ops) is deprecated and will be removed after 2016-11-30.\n",
      "Instructions for updating:\n",
      "Please switch to tf.summary.scalar. Note that tf.summary.scalar uses the node name instead of the tag. This means that TensorFlow will automatically de-duplicate summary names based on the scope they are created in. Also, passing a tensor or list of tags to a scalar summary op is no longer supported.\n",
      "INFO:tensorflow:Create CheckpointSaverHook.\n",
      "INFO:tensorflow:Saving checkpoints for 1 into /var/folders/p4/njr18cwn09qbzcq3hykrw09rrkp705/T/tmptjRit7/model.ckpt.\n",
      "INFO:tensorflow:loss = 3.5, step = 1\n",
      "INFO:tensorflow:global_step/sec: 1617.1\n",
      "INFO:tensorflow:loss = 0.0908943, step = 101 (0.063 sec)\n",
      "INFO:tensorflow:global_step/sec: 1604.93\n",
      "INFO:tensorflow:loss = 0.0213844, step = 201 (0.062 sec)\n",
      "INFO:tensorflow:global_step/sec: 1667.97\n",
      "INFO:tensorflow:loss = 0.00196626, step = 301 (0.060 sec)\n",
      "INFO:tensorflow:global_step/sec: 1623.25\n",
      "INFO:tensorflow:loss = 0.000402848, step = 401 (0.061 sec)\n",
      "INFO:tensorflow:global_step/sec: 1617.97\n",
      "INFO:tensorflow:loss = 5.07398e-05, step = 501 (0.062 sec)\n",
      "INFO:tensorflow:global_step/sec: 1574.31\n",
      "INFO:tensorflow:loss = 2.48806e-06, step = 601 (0.064 sec)\n",
      "INFO:tensorflow:global_step/sec: 1552.94\n",
      "INFO:tensorflow:loss = 8.01195e-07, step = 701 (0.064 sec)\n",
      "INFO:tensorflow:global_step/sec: 1801.48\n",
      "INFO:tensorflow:loss = 7.75562e-07, step = 801 (0.056 sec)\n",
      "INFO:tensorflow:global_step/sec: 2063.6\n",
      "INFO:tensorflow:loss = 1.60191e-07, step = 901 (0.048 sec)\n",
      "INFO:tensorflow:Saving checkpoints for 1000 into /var/folders/p4/njr18cwn09qbzcq3hykrw09rrkp705/T/tmptjRit7/model.ckpt.\n",
      "INFO:tensorflow:Loss for final step: 9.28152e-09.\n",
      "WARNING:tensorflow:Rank of input Tensor (1) should be the same as output_rank (2) for column. Will attempt to expand dims. It is highly recommended that you resize your input, as this behavior may change.\n",
      "WARNING:tensorflow:From /Users/nahmad/anaconda2/lib/python2.7/site-packages/tensorflow/contrib/learn/python/learn/estimators/head.py:615: scalar_summary (from tensorflow.python.ops.logging_ops) is deprecated and will be removed after 2016-11-30.\n",
      "Instructions for updating:\n",
      "Please switch to tf.summary.scalar. Note that tf.summary.scalar uses the node name instead of the tag. This means that TensorFlow will automatically de-duplicate summary names based on the scope they are created in. Also, passing a tensor or list of tags to a scalar summary op is no longer supported.\n",
      "INFO:tensorflow:Starting evaluation at 2017-06-03-20:01:40\n",
      "INFO:tensorflow:Restoring parameters from /var/folders/p4/njr18cwn09qbzcq3hykrw09rrkp705/T/tmptjRit7/model.ckpt-1000\n",
      "INFO:tensorflow:Finished evaluation at 2017-06-03-20:01:41\n",
      "INFO:tensorflow:Saving dict for global step 1000: global_step = 1000, loss = 1.82378e-08\n",
      "WARNING:tensorflow:Skipping summary for global_step, must be a float or np.float32.\n",
      "{'loss': 1.8237765e-08, 'global_step': 1000}\n"
     ]
    }
   ],
   "source": [
    "import tensorflow as tf\n",
    "# NumPy is often used to load, manipulate and preprocess data.\n",
    "import numpy as np\n",
    "\n",
    "# Declare list of features. We only have one real-valued feature. There are many\n",
    "# other types of columns that are more complicated and useful.\n",
    "features = [tf.contrib.layers.real_valued_column(\"x\", dimension=1)]\n",
    "\n",
    "# An estimator is the front end to invoke training (fitting) and evaluation\n",
    "# (inference). There are many predefined types like linear regression,\n",
    "# logistic regression, linear classification, logistic classification, and\n",
    "# many neural network classifiers and regressors. The following code\n",
    "# provides an estimator that does linear regression.\n",
    "estimator = tf.contrib.learn.LinearRegressor(feature_columns=features)\n",
    "\n",
    "# TensorFlow provides many helper methods to read and set up data sets.\n",
    "# Here we use `numpy_input_fn`. We have to tell the function how many batches\n",
    "# of data (num_epochs) we want and how big each batch should be.\n",
    "x = np.array([1., 2., 3., 4.])\n",
    "y = np.array([0., -1., -2., -3.])\n",
    "input_fn = tf.contrib.learn.io.numpy_input_fn({\"x\":x}, y, batch_size=4,\n",
    "                                              num_epochs=1000)\n",
    "\n",
    "# We can invoke 1000 training steps by invoking the `fit` method and passing the\n",
    "# training data set.\n",
    "estimator.fit(input_fn=input_fn, steps=1000)\n",
    "\n",
    "# Here we evaluate how well our model did. In a real example, we would want\n",
    "# to use a separate validation and testing data set to avoid overfitting.\n",
    "print(estimator.evaluate(input_fn=input_fn))"
   ]
  },
  {
   "cell_type": "markdown",
   "metadata": {},
   "source": [
    "## Mnist Softmax"
   ]
  },
  {
   "cell_type": "code",
   "execution_count": 25,
   "metadata": {
    "collapsed": false
   },
   "outputs": [
    {
     "name": "stdout",
     "output_type": "stream",
     "text": [
      "Extracting /tmp/tensorflow/mnist/input_data/train-images-idx3-ubyte.gz\n",
      "Extracting /tmp/tensorflow/mnist/input_data/train-labels-idx1-ubyte.gz\n",
      "Extracting /tmp/tensorflow/mnist/input_data/t10k-images-idx3-ubyte.gz\n",
      "Extracting /tmp/tensorflow/mnist/input_data/t10k-labels-idx1-ubyte.gz\n",
      "0.9173\n"
     ]
    },
    {
     "ename": "SystemExit",
     "evalue": "",
     "output_type": "error",
     "traceback": [
      "An exception has occurred, use %tb to see the full traceback.\n",
      "\u001b[0;31mSystemExit\u001b[0m\n"
     ]
    }
   ],
   "source": [
    "from tensorflow.examples.tutorials.mnist import input_data\n",
    "import tensorflow as tf\n",
    "import argparse\n",
    "import sys\n",
    "\n",
    "\n",
    "FLAGS = None\n",
    "\n",
    "def main1(_):\n",
    "    # Import data\n",
    "    mnist = input_data.read_data_sets(FLAGS.data_dir, one_hot=True)\n",
    "\n",
    "    # Create the model\n",
    "    x = tf.placeholder(tf.float32, [None, 784])\n",
    "    W = tf.Variable(tf.zeros([784, 10]))\n",
    "    b = tf.Variable(tf.zeros([10]))\n",
    "    y = tf.matmul(x, W) + b\n",
    "\n",
    "    # Define loss and optimizer\n",
    "    y_ = tf.placeholder(tf.float32, [None, 10])\n",
    "\n",
    "    # The raw formulation of cross-entropy,\n",
    "    #\n",
    "    #   tf.reduce_mean(-tf.reduce_sum(y_ * tf.log(tf.nn.softmax(y)),\n",
    "    #                                 reduction_indices=[1]))\n",
    "    #\n",
    "    # can be numerically unstable.\n",
    "    #\n",
    "    # So here we use tf.nn.softmax_cross_entropy_with_logits on the raw\n",
    "    # outputs of 'y', and then average across the batch.\n",
    "\n",
    "    cross_entropy = tf.reduce_mean(\n",
    "      tf.nn.softmax_cross_entropy_with_logits(labels=y_, logits=y))\n",
    "    train_step = tf.train.GradientDescentOptimizer(0.5).minimize(cross_entropy)\n",
    "\n",
    "    sess = tf.InteractiveSession()\n",
    "    tf.global_variables_initializer().run()\n",
    "\n",
    "    # Train\n",
    "    for _ in range(1000):\n",
    "        batch_xs, batch_ys = mnist.train.next_batch(100)\n",
    "        sess.run(train_step, feed_dict={x: batch_xs, y_: batch_ys})\n",
    "\n",
    "    # Test trained model\n",
    "    correct_prediction = tf.equal(tf.argmax(y, 1), tf.argmax(y_, 1))\n",
    "    accuracy = tf.reduce_mean(tf.cast(correct_prediction, tf.float32))\n",
    "\n",
    "    print(sess.run(accuracy, feed_dict={x: mnist.test.images,\n",
    "                                      y_: mnist.test.labels}))\n",
    "    \n",
    "\n",
    "    \n",
    "parser = argparse.ArgumentParser()\n",
    "parser.add_argument('--data_dir', type=str, default='/tmp/tensorflow/mnist/input_data',\n",
    "                  help='Directory for storing input data')\n",
    "FLAGS, unparsed = parser.parse_known_args(\"\")\n",
    "\n",
    "tf.app.run(main=main1)\n"
   ]
  },
  {
   "cell_type": "markdown",
   "metadata": {
    "collapsed": true
   },
   "source": [
    "## Mnist Convolution "
   ]
  },
  {
   "cell_type": "code",
   "execution_count": 1,
   "metadata": {
    "collapsed": false
   },
   "outputs": [
    {
     "name": "stdout",
     "output_type": "stream",
     "text": [
      "Successfully downloaded train-images-idx3-ubyte.gz 9912422 bytes.\n",
      "Extracting /tmp/data/train-images-idx3-ubyte.gz\n",
      "Successfully downloaded train-labels-idx1-ubyte.gz 28881 bytes.\n",
      "Extracting /tmp/data/train-labels-idx1-ubyte.gz\n",
      "Successfully downloaded t10k-images-idx3-ubyte.gz 1648877 bytes.\n",
      "Extracting /tmp/data/t10k-images-idx3-ubyte.gz\n",
      "Successfully downloaded t10k-labels-idx1-ubyte.gz 4542 bytes.\n",
      "Extracting /tmp/data/t10k-labels-idx1-ubyte.gz\n",
      "Iter 1280, Minibatch Loss= 17106.744141, Training Accuracy= 0.29688\n",
      "Iter 2560, Minibatch Loss= 6836.214355, Training Accuracy= 0.56250\n",
      "Iter 3840, Minibatch Loss= 2629.816406, Training Accuracy= 0.79688\n",
      "Iter 5120, Minibatch Loss= 3147.929199, Training Accuracy= 0.78125\n",
      "Iter 6400, Minibatch Loss= 3299.618896, Training Accuracy= 0.76562\n",
      "Iter 7680, Minibatch Loss= 2469.137207, Training Accuracy= 0.83594\n",
      "Iter 8960, Minibatch Loss= 2267.969238, Training Accuracy= 0.83594\n",
      "Iter 10240, Minibatch Loss= 2243.881836, Training Accuracy= 0.85938\n",
      "Iter 11520, Minibatch Loss= 2161.059082, Training Accuracy= 0.83594\n",
      "Iter 12800, Minibatch Loss= 1490.797974, Training Accuracy= 0.88281\n",
      "Iter 14080, Minibatch Loss= 2455.565430, Training Accuracy= 0.89844\n",
      "Iter 15360, Minibatch Loss= 1439.260742, Training Accuracy= 0.88281\n",
      "Iter 16640, Minibatch Loss= 1439.086914, Training Accuracy= 0.91406\n",
      "Iter 17920, Minibatch Loss= 611.169067, Training Accuracy= 0.90625\n",
      "Iter 19200, Minibatch Loss= 920.086853, Training Accuracy= 0.94531\n",
      "Iter 20480, Minibatch Loss= 752.484253, Training Accuracy= 0.91406\n",
      "Iter 21760, Minibatch Loss= 770.634155, Training Accuracy= 0.92188\n",
      "Iter 23040, Minibatch Loss= 460.168701, Training Accuracy= 0.93750\n",
      "Iter 24320, Minibatch Loss= 1146.460938, Training Accuracy= 0.90625\n",
      "Iter 25600, Minibatch Loss= 829.768188, Training Accuracy= 0.95312\n",
      "Iter 26880, Minibatch Loss= 1102.644287, Training Accuracy= 0.90625\n",
      "Iter 28160, Minibatch Loss= 1223.030640, Training Accuracy= 0.86719\n",
      "Iter 29440, Minibatch Loss= 681.646851, Training Accuracy= 0.93750\n",
      "Iter 30720, Minibatch Loss= 634.432678, Training Accuracy= 0.92188\n",
      "Iter 32000, Minibatch Loss= 955.471802, Training Accuracy= 0.89062\n",
      "Iter 33280, Minibatch Loss= 702.693604, Training Accuracy= 0.91406\n",
      "Iter 34560, Minibatch Loss= 719.475281, Training Accuracy= 0.92969\n",
      "Iter 35840, Minibatch Loss= 253.726196, Training Accuracy= 0.96094\n",
      "Iter 37120, Minibatch Loss= 494.480225, Training Accuracy= 0.93750\n",
      "Iter 38400, Minibatch Loss= 683.121704, Training Accuracy= 0.94531\n",
      "Iter 39680, Minibatch Loss= 1029.452393, Training Accuracy= 0.95312\n",
      "Iter 40960, Minibatch Loss= 1449.563965, Training Accuracy= 0.88281\n",
      "Iter 42240, Minibatch Loss= 1341.431519, Training Accuracy= 0.92188\n",
      "Iter 43520, Minibatch Loss= 292.988007, Training Accuracy= 0.95312\n",
      "Iter 44800, Minibatch Loss= 707.578003, Training Accuracy= 0.93750\n",
      "Iter 46080, Minibatch Loss= 669.100647, Training Accuracy= 0.93750\n",
      "Iter 47360, Minibatch Loss= 419.412262, Training Accuracy= 0.92969\n",
      "Iter 48640, Minibatch Loss= 1041.719727, Training Accuracy= 0.92188\n",
      "Iter 49920, Minibatch Loss= 633.529663, Training Accuracy= 0.96094\n",
      "Iter 51200, Minibatch Loss= 397.156860, Training Accuracy= 0.96875\n",
      "Iter 52480, Minibatch Loss= 537.503784, Training Accuracy= 0.93750\n",
      "Iter 53760, Minibatch Loss= 209.716034, Training Accuracy= 0.96094\n",
      "Iter 55040, Minibatch Loss= 1179.039673, Training Accuracy= 0.92188\n",
      "Iter 56320, Minibatch Loss= 337.035492, Training Accuracy= 0.96875\n",
      "Iter 57600, Minibatch Loss= 281.713104, Training Accuracy= 0.97656\n",
      "Iter 58880, Minibatch Loss= 848.156372, Training Accuracy= 0.93750\n",
      "Iter 60160, Minibatch Loss= 493.573792, Training Accuracy= 0.96875\n",
      "Iter 61440, Minibatch Loss= 326.640381, Training Accuracy= 0.95312\n",
      "Iter 62720, Minibatch Loss= 17.891647, Training Accuracy= 0.99219\n",
      "Iter 64000, Minibatch Loss= 195.056335, Training Accuracy= 0.96875\n",
      "Iter 65280, Minibatch Loss= 1077.089355, Training Accuracy= 0.89844\n",
      "Iter 66560, Minibatch Loss= 63.534401, Training Accuracy= 0.97656\n",
      "Iter 67840, Minibatch Loss= 47.779343, Training Accuracy= 0.99219\n",
      "Iter 69120, Minibatch Loss= 205.823654, Training Accuracy= 0.97656\n",
      "Iter 70400, Minibatch Loss= 545.579834, Training Accuracy= 0.93750\n",
      "Iter 71680, Minibatch Loss= 135.029480, Training Accuracy= 0.96875\n",
      "Iter 72960, Minibatch Loss= 399.701843, Training Accuracy= 0.95312\n",
      "Iter 74240, Minibatch Loss= 538.289429, Training Accuracy= 0.95312\n",
      "Iter 75520, Minibatch Loss= 989.103882, Training Accuracy= 0.94531\n",
      "Iter 76800, Minibatch Loss= 523.393921, Training Accuracy= 0.96094\n",
      "Iter 78080, Minibatch Loss= 146.224548, Training Accuracy= 0.94531\n",
      "Iter 79360, Minibatch Loss= 783.297852, Training Accuracy= 0.94531\n",
      "Iter 80640, Minibatch Loss= 659.377136, Training Accuracy= 0.94531\n",
      "Iter 81920, Minibatch Loss= 80.440659, Training Accuracy= 0.98438\n",
      "Iter 83200, Minibatch Loss= 320.964783, Training Accuracy= 0.96875\n",
      "Iter 84480, Minibatch Loss= 628.782898, Training Accuracy= 0.92188\n",
      "Iter 85760, Minibatch Loss= 305.679016, Training Accuracy= 0.96094\n",
      "Iter 87040, Minibatch Loss= 190.561310, Training Accuracy= 0.97656\n",
      "Iter 88320, Minibatch Loss= 522.133240, Training Accuracy= 0.96875\n",
      "Iter 89600, Minibatch Loss= 66.198357, Training Accuracy= 0.97656\n",
      "Iter 90880, Minibatch Loss= 61.191223, Training Accuracy= 0.98438\n",
      "Iter 92160, Minibatch Loss= 149.390503, Training Accuracy= 0.95312\n",
      "Iter 93440, Minibatch Loss= 589.947632, Training Accuracy= 0.92188\n",
      "Iter 94720, Minibatch Loss= 368.029938, Training Accuracy= 0.96094\n",
      "Iter 96000, Minibatch Loss= 856.257874, Training Accuracy= 0.92969\n",
      "Iter 97280, Minibatch Loss= 247.436737, Training Accuracy= 0.99219\n",
      "Iter 98560, Minibatch Loss= 252.831024, Training Accuracy= 0.95312\n",
      "Iter 99840, Minibatch Loss= 131.551926, Training Accuracy= 0.97656\n",
      "Iter 101120, Minibatch Loss= 299.314362, Training Accuracy= 0.96094\n",
      "Iter 102400, Minibatch Loss= 171.126892, Training Accuracy= 0.97656\n",
      "Iter 103680, Minibatch Loss= 258.461365, Training Accuracy= 0.98438\n",
      "Iter 104960, Minibatch Loss= 131.830887, Training Accuracy= 0.96094\n",
      "Iter 106240, Minibatch Loss= 361.593781, Training Accuracy= 0.92969\n",
      "Iter 107520, Minibatch Loss= 108.495728, Training Accuracy= 0.97656\n",
      "Iter 108800, Minibatch Loss= 414.882263, Training Accuracy= 0.95312\n",
      "Iter 110080, Minibatch Loss= 153.905914, Training Accuracy= 0.96094\n",
      "Iter 111360, Minibatch Loss= 12.140030, Training Accuracy= 0.99219\n",
      "Iter 112640, Minibatch Loss= 498.734711, Training Accuracy= 0.94531\n",
      "Iter 113920, Minibatch Loss= 112.139740, Training Accuracy= 0.98438\n",
      "Iter 115200, Minibatch Loss= 176.916275, Training Accuracy= 0.97656\n",
      "Iter 116480, Minibatch Loss= 192.612473, Training Accuracy= 0.96094\n",
      "Iter 117760, Minibatch Loss= 196.215485, Training Accuracy= 0.95312\n",
      "Iter 119040, Minibatch Loss= 151.270782, Training Accuracy= 0.96875\n",
      "Iter 120320, Minibatch Loss= 11.035048, Training Accuracy= 0.98438\n",
      "Iter 121600, Minibatch Loss= 303.923035, Training Accuracy= 0.96875\n",
      "Iter 122880, Minibatch Loss= 166.738693, Training Accuracy= 0.96875\n",
      "Iter 124160, Minibatch Loss= 189.141235, Training Accuracy= 0.95312\n",
      "Iter 125440, Minibatch Loss= 123.914810, Training Accuracy= 0.97656\n",
      "Iter 126720, Minibatch Loss= 207.011993, Training Accuracy= 0.96875\n",
      "Iter 128000, Minibatch Loss= 114.472267, Training Accuracy= 0.96875\n",
      "Iter 129280, Minibatch Loss= 259.454407, Training Accuracy= 0.96875\n",
      "Iter 130560, Minibatch Loss= 118.032608, Training Accuracy= 0.96094\n",
      "Iter 131840, Minibatch Loss= 148.846344, Training Accuracy= 0.97656\n",
      "Iter 133120, Minibatch Loss= 217.585175, Training Accuracy= 0.97656\n",
      "Iter 134400, Minibatch Loss= 92.487656, Training Accuracy= 0.96094\n",
      "Iter 135680, Minibatch Loss= 15.470337, Training Accuracy= 0.98438\n",
      "Iter 136960, Minibatch Loss= 242.932816, Training Accuracy= 0.97656\n",
      "Iter 138240, Minibatch Loss= 458.007172, Training Accuracy= 0.94531\n",
      "Iter 139520, Minibatch Loss= 164.418091, Training Accuracy= 0.96875\n",
      "Iter 140800, Minibatch Loss= 46.018471, Training Accuracy= 0.98438\n",
      "Iter 142080, Minibatch Loss= 321.349609, Training Accuracy= 0.96875\n",
      "Iter 143360, Minibatch Loss= 253.036636, Training Accuracy= 0.96875\n",
      "Iter 144640, Minibatch Loss= 104.733330, Training Accuracy= 0.97656\n",
      "Iter 145920, Minibatch Loss= 108.715004, Training Accuracy= 0.96875\n",
      "Iter 147200, Minibatch Loss= 268.570343, Training Accuracy= 0.96094\n",
      "Iter 148480, Minibatch Loss= 311.280518, Training Accuracy= 0.97656\n",
      "Iter 149760, Minibatch Loss= 278.862183, Training Accuracy= 0.92969\n",
      "Iter 151040, Minibatch Loss= 277.727448, Training Accuracy= 0.95312\n",
      "Iter 152320, Minibatch Loss= 0.167770, Training Accuracy= 0.99219\n",
      "Iter 153600, Minibatch Loss= 95.919922, Training Accuracy= 0.98438\n",
      "Iter 154880, Minibatch Loss= 77.292526, Training Accuracy= 0.98438\n",
      "Iter 156160, Minibatch Loss= 23.771988, Training Accuracy= 0.99219\n",
      "Iter 157440, Minibatch Loss= 214.075775, Training Accuracy= 0.96875\n",
      "Iter 158720, Minibatch Loss= 142.616867, Training Accuracy= 0.97656\n",
      "Iter 160000, Minibatch Loss= 108.772209, Training Accuracy= 0.96094\n",
      "Iter 161280, Minibatch Loss= 39.772255, Training Accuracy= 0.98438\n",
      "Iter 162560, Minibatch Loss= 28.756599, Training Accuracy= 0.98438\n",
      "Iter 163840, Minibatch Loss= 147.732483, Training Accuracy= 0.96094\n",
      "Iter 165120, Minibatch Loss= 120.135910, Training Accuracy= 0.96875\n",
      "Iter 166400, Minibatch Loss= 39.836601, Training Accuracy= 0.99219\n",
      "Iter 167680, Minibatch Loss= 52.392910, Training Accuracy= 0.98438\n",
      "Iter 168960, Minibatch Loss= 35.485725, Training Accuracy= 0.98438\n",
      "Iter 170240, Minibatch Loss= 136.005096, Training Accuracy= 0.96875\n",
      "Iter 171520, Minibatch Loss= 170.482742, Training Accuracy= 0.96875\n",
      "Iter 172800, Minibatch Loss= 33.725067, Training Accuracy= 0.96875\n",
      "Iter 174080, Minibatch Loss= 91.073013, Training Accuracy= 0.98438\n",
      "Iter 175360, Minibatch Loss= 264.617004, Training Accuracy= 0.96094\n",
      "Iter 176640, Minibatch Loss= 64.885780, Training Accuracy= 0.98438\n",
      "Iter 177920, Minibatch Loss= 75.132538, Training Accuracy= 0.98438\n",
      "Iter 179200, Minibatch Loss= 5.714462, Training Accuracy= 0.99219\n",
      "Iter 180480, Minibatch Loss= 138.629166, Training Accuracy= 0.98438\n",
      "Iter 181760, Minibatch Loss= 295.189514, Training Accuracy= 0.96094\n",
      "Iter 183040, Minibatch Loss= 65.247429, Training Accuracy= 0.97656\n",
      "Iter 184320, Minibatch Loss= 103.671242, Training Accuracy= 0.96875\n",
      "Iter 185600, Minibatch Loss= 157.370087, Training Accuracy= 0.97656\n",
      "Iter 186880, Minibatch Loss= 10.522598, Training Accuracy= 0.98438\n",
      "Iter 188160, Minibatch Loss= 123.620956, Training Accuracy= 0.98438\n",
      "Iter 189440, Minibatch Loss= 41.418617, Training Accuracy= 0.98438\n",
      "Iter 190720, Minibatch Loss= 259.315063, Training Accuracy= 0.96094\n",
      "Iter 192000, Minibatch Loss= 232.334930, Training Accuracy= 0.97656\n",
      "Iter 193280, Minibatch Loss= 201.897614, Training Accuracy= 0.97656\n",
      "Iter 194560, Minibatch Loss= 156.987610, Training Accuracy= 0.97656\n",
      "Iter 195840, Minibatch Loss= 62.318481, Training Accuracy= 0.96094\n",
      "Iter 197120, Minibatch Loss= 295.927826, Training Accuracy= 0.96875\n",
      "Iter 198400, Minibatch Loss= 19.601723, Training Accuracy= 0.99219\n",
      "Iter 199680, Minibatch Loss= 35.530701, Training Accuracy= 0.99219\n",
      "Optimization Finished!\n",
      "('Testing Accuracy:', 0.98828125)\n"
     ]
    }
   ],
   "source": [
    "import tensorflow as tf\n",
    "\n",
    "# Import MNIST data\n",
    "from tensorflow.examples.tutorials.mnist import input_data\n",
    "mnist = input_data.read_data_sets(\"/tmp/data/\", one_hot=True)\n",
    "\n",
    "# Parameters\n",
    "learning_rate = 0.001\n",
    "training_iters = 200000\n",
    "batch_size = 128\n",
    "display_step = 10\n",
    "\n",
    "# Network Parameters\n",
    "n_input = 784 # MNIST data input (img shape: 28*28)\n",
    "n_classes = 10 # MNIST total classes (0-9 digits)\n",
    "dropout = 0.75 # Dropout, probability to keep units\n",
    "\n",
    "# tf Graph input\n",
    "x = tf.placeholder(tf.float32, [None, n_input])\n",
    "y = tf.placeholder(tf.float32, [None, n_classes])\n",
    "keep_prob = tf.placeholder(tf.float32) #dropout (keep probability)\n",
    "\n",
    "\n",
    "# Create some wrappers for simplicity\n",
    "def conv2d(x, W, b, strides=1):\n",
    "    # Conv2D wrapper, with bias and relu activation\n",
    "    x = tf.nn.conv2d(x, W, strides=[1, strides, strides, 1], padding='SAME')\n",
    "    x = tf.nn.bias_add(x, b)\n",
    "    return tf.nn.relu(x)\n",
    "\n",
    "\n",
    "def maxpool2d(x, k=2):\n",
    "    # MaxPool2D wrapper\n",
    "    return tf.nn.max_pool(x, ksize=[1, k, k, 1], strides=[1, k, k, 1],\n",
    "                          padding='SAME')\n",
    "\n",
    "\n",
    "# Create model\n",
    "def conv_net(x, weights, biases, dropout):\n",
    "    # Reshape input picture\n",
    "    x = tf.reshape(x, shape=[-1, 28, 28, 1])\n",
    "\n",
    "    # Convolution Layer\n",
    "    conv1 = conv2d(x, weights['wc1'], biases['bc1'])\n",
    "    # Max Pooling (down-sampling)\n",
    "    conv1 = maxpool2d(conv1, k=2)\n",
    "\n",
    "    # Convolution Layer\n",
    "    conv2 = conv2d(conv1, weights['wc2'], biases['bc2'])\n",
    "    # Max Pooling (down-sampling)\n",
    "    conv2 = maxpool2d(conv2, k=2)\n",
    "\n",
    "    # Fully connected layer\n",
    "    # Reshape conv2 output to fit fully connected layer input\n",
    "    fc1 = tf.reshape(conv2, [-1, weights['wd1'].get_shape().as_list()[0]])\n",
    "    fc1 = tf.add(tf.matmul(fc1, weights['wd1']), biases['bd1'])\n",
    "    fc1 = tf.nn.relu(fc1)\n",
    "    # Apply Dropout\n",
    "    fc1 = tf.nn.dropout(fc1, dropout)\n",
    "\n",
    "    # Output, class prediction\n",
    "    out = tf.add(tf.matmul(fc1, weights['out']), biases['out'])\n",
    "    return out\n",
    "\n",
    "# Store layers weight & bias\n",
    "weights = {\n",
    "    # 5x5 conv, 1 input, 32 outputs\n",
    "    'wc1': tf.Variable(tf.random_normal([5, 5, 1, 32])),\n",
    "    # 5x5 conv, 32 inputs, 64 outputs\n",
    "    'wc2': tf.Variable(tf.random_normal([5, 5, 32, 64])),\n",
    "    # fully connected, 7*7*64 inputs, 1024 outputs\n",
    "    'wd1': tf.Variable(tf.random_normal([7*7*64, 1024])),\n",
    "    # 1024 inputs, 10 outputs (class prediction)\n",
    "    'out': tf.Variable(tf.random_normal([1024, n_classes]))\n",
    "}\n",
    "\n",
    "biases = {\n",
    "    'bc1': tf.Variable(tf.random_normal([32])),\n",
    "    'bc2': tf.Variable(tf.random_normal([64])),\n",
    "    'bd1': tf.Variable(tf.random_normal([1024])),\n",
    "    'out': tf.Variable(tf.random_normal([n_classes]))\n",
    "}\n",
    "\n",
    "# Construct model\n",
    "pred = conv_net(x, weights, biases, keep_prob)\n",
    "\n",
    "# Define loss and optimizer\n",
    "cost = tf.reduce_mean(tf.nn.softmax_cross_entropy_with_logits(logits=pred, labels=y))\n",
    "optimizer = tf.train.AdamOptimizer(learning_rate=learning_rate).minimize(cost)\n",
    "\n",
    "# Evaluate model\n",
    "correct_pred = tf.equal(tf.argmax(pred, 1), tf.argmax(y, 1))\n",
    "accuracy = tf.reduce_mean(tf.cast(correct_pred, tf.float32))\n",
    "\n",
    "# Initializing the variables\n",
    "init = tf.global_variables_initializer()\n",
    "\n",
    "# Launch the graph\n",
    "with tf.Session() as sess:\n",
    "    sess.run(init)\n",
    "    step = 1\n",
    "    # Keep training until reach max iterations\n",
    "    while step * batch_size < training_iters:\n",
    "        batch_x, batch_y = mnist.train.next_batch(batch_size)\n",
    "        # Run optimization op (backprop)\n",
    "        sess.run(optimizer, feed_dict={x: batch_x, y: batch_y,\n",
    "                                       keep_prob: dropout})\n",
    "        if step % display_step == 0:\n",
    "            # Calculate batch loss and accuracy\n",
    "            loss, acc = sess.run([cost, accuracy], feed_dict={x: batch_x,\n",
    "                                                              y: batch_y,\n",
    "                                                              keep_prob: 1.})\n",
    "            print(\"Iter \" + str(step*batch_size) + \", Minibatch Loss= \" + \\\n",
    "                  \"{:.6f}\".format(loss) + \", Training Accuracy= \" + \\\n",
    "                  \"{:.5f}\".format(acc))\n",
    "        step += 1\n",
    "    print(\"Optimization Finished!\")\n",
    "\n",
    "    # Calculate accuracy for 256 mnist test images\n",
    "    print(\"Testing Accuracy:\", \\\n",
    "        sess.run(accuracy, feed_dict={x: mnist.test.images[:256],\n",
    "                                      y: mnist.test.labels[:256],\n",
    "                                      keep_prob: 1.}))"
   ]
  },
  {
   "cell_type": "code",
   "execution_count": null,
   "metadata": {
    "collapsed": true
   },
   "outputs": [],
   "source": []
  }
 ],
 "metadata": {
  "anaconda-cloud": {},
  "kernelspec": {
   "display_name": "Python [conda root]",
   "language": "python",
   "name": "conda-root-py"
  },
  "language_info": {
   "codemirror_mode": {
    "name": "ipython",
    "version": 2
   },
   "file_extension": ".py",
   "mimetype": "text/x-python",
   "name": "python",
   "nbconvert_exporter": "python",
   "pygments_lexer": "ipython2",
   "version": "2.7.12"
  }
 },
 "nbformat": 4,
 "nbformat_minor": 1
}
